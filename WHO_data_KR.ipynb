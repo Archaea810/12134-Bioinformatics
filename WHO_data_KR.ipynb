{
 "cells": [
  {
   "cell_type": "code",
   "execution_count": 1,
   "metadata": {},
   "outputs": [],
   "source": [
    "import pandas as pd\n",
    "import matplotlib.pyplot as plt\n",
    "import numpy as np"
   ]
  },
  {
   "cell_type": "code",
   "execution_count": 2,
   "metadata": {},
   "outputs": [],
   "source": [
    "df = pd.read_csv('WHO-COVID-19-global-data.csv')\n",
    "df.loc[df['New_deaths'] < 0, 'New_deaths'] = 0\n",
    "df.loc[df['New_cases'] < 0, 'New_cases'] = 0"
   ]
  },
  {
   "cell_type": "code",
   "execution_count": 3,
   "metadata": {},
   "outputs": [
    {
     "data": {
      "text/html": [
       "<div>\n",
       "<style scoped>\n",
       "    .dataframe tbody tr th:only-of-type {\n",
       "        vertical-align: middle;\n",
       "    }\n",
       "\n",
       "    .dataframe tbody tr th {\n",
       "        vertical-align: top;\n",
       "    }\n",
       "\n",
       "    .dataframe thead th {\n",
       "        text-align: right;\n",
       "    }\n",
       "</style>\n",
       "<table border=\"1\" class=\"dataframe\">\n",
       "  <thead>\n",
       "    <tr style=\"text-align: right;\">\n",
       "      <th></th>\n",
       "      <th>Date_reported</th>\n",
       "      <th>Country_code</th>\n",
       "      <th>Country</th>\n",
       "      <th>WHO_region</th>\n",
       "      <th>New_cases</th>\n",
       "      <th>Cumulative_cases</th>\n",
       "      <th>New_deaths</th>\n",
       "      <th>Cumulative_deaths</th>\n",
       "    </tr>\n",
       "  </thead>\n",
       "  <tbody>\n",
       "    <tr>\n",
       "      <th>204516</th>\n",
       "      <td>2020-01-03</td>\n",
       "      <td>KR</td>\n",
       "      <td>Republic of Korea</td>\n",
       "      <td>WPRO</td>\n",
       "      <td>0</td>\n",
       "      <td>0</td>\n",
       "      <td>0</td>\n",
       "      <td>0</td>\n",
       "    </tr>\n",
       "    <tr>\n",
       "      <th>204517</th>\n",
       "      <td>2020-01-04</td>\n",
       "      <td>KR</td>\n",
       "      <td>Republic of Korea</td>\n",
       "      <td>WPRO</td>\n",
       "      <td>0</td>\n",
       "      <td>0</td>\n",
       "      <td>0</td>\n",
       "      <td>0</td>\n",
       "    </tr>\n",
       "    <tr>\n",
       "      <th>204518</th>\n",
       "      <td>2020-01-05</td>\n",
       "      <td>KR</td>\n",
       "      <td>Republic of Korea</td>\n",
       "      <td>WPRO</td>\n",
       "      <td>0</td>\n",
       "      <td>0</td>\n",
       "      <td>0</td>\n",
       "      <td>0</td>\n",
       "    </tr>\n",
       "    <tr>\n",
       "      <th>204519</th>\n",
       "      <td>2020-01-06</td>\n",
       "      <td>KR</td>\n",
       "      <td>Republic of Korea</td>\n",
       "      <td>WPRO</td>\n",
       "      <td>0</td>\n",
       "      <td>0</td>\n",
       "      <td>0</td>\n",
       "      <td>0</td>\n",
       "    </tr>\n",
       "    <tr>\n",
       "      <th>204520</th>\n",
       "      <td>2020-01-07</td>\n",
       "      <td>KR</td>\n",
       "      <td>Republic of Korea</td>\n",
       "      <td>WPRO</td>\n",
       "      <td>0</td>\n",
       "      <td>0</td>\n",
       "      <td>0</td>\n",
       "      <td>0</td>\n",
       "    </tr>\n",
       "    <tr>\n",
       "      <th>...</th>\n",
       "      <td>...</td>\n",
       "      <td>...</td>\n",
       "      <td>...</td>\n",
       "      <td>...</td>\n",
       "      <td>...</td>\n",
       "      <td>...</td>\n",
       "      <td>...</td>\n",
       "      <td>...</td>\n",
       "    </tr>\n",
       "    <tr>\n",
       "      <th>205707</th>\n",
       "      <td>2023-04-08</td>\n",
       "      <td>KR</td>\n",
       "      <td>Republic of Korea</td>\n",
       "      <td>WPRO</td>\n",
       "      <td>10372</td>\n",
       "      <td>30904502</td>\n",
       "      <td>4</td>\n",
       "      <td>34315</td>\n",
       "    </tr>\n",
       "    <tr>\n",
       "      <th>205708</th>\n",
       "      <td>2023-04-09</td>\n",
       "      <td>KR</td>\n",
       "      <td>Republic of Korea</td>\n",
       "      <td>WPRO</td>\n",
       "      <td>9553</td>\n",
       "      <td>30914055</td>\n",
       "      <td>2</td>\n",
       "      <td>34317</td>\n",
       "    </tr>\n",
       "    <tr>\n",
       "      <th>205709</th>\n",
       "      <td>2023-04-10</td>\n",
       "      <td>KR</td>\n",
       "      <td>Republic of Korea</td>\n",
       "      <td>WPRO</td>\n",
       "      <td>4005</td>\n",
       "      <td>30918060</td>\n",
       "      <td>15</td>\n",
       "      <td>34332</td>\n",
       "    </tr>\n",
       "    <tr>\n",
       "      <th>205710</th>\n",
       "      <td>2023-04-11</td>\n",
       "      <td>KR</td>\n",
       "      <td>Republic of Korea</td>\n",
       "      <td>WPRO</td>\n",
       "      <td>0</td>\n",
       "      <td>30918060</td>\n",
       "      <td>0</td>\n",
       "      <td>34332</td>\n",
       "    </tr>\n",
       "    <tr>\n",
       "      <th>205711</th>\n",
       "      <td>2023-04-12</td>\n",
       "      <td>KR</td>\n",
       "      <td>Republic of Korea</td>\n",
       "      <td>WPRO</td>\n",
       "      <td>0</td>\n",
       "      <td>30918060</td>\n",
       "      <td>0</td>\n",
       "      <td>34332</td>\n",
       "    </tr>\n",
       "  </tbody>\n",
       "</table>\n",
       "<p>1196 rows × 8 columns</p>\n",
       "</div>"
      ],
      "text/plain": [
       "       Date_reported Country_code            Country WHO_region  New_cases   \n",
       "204516    2020-01-03           KR  Republic of Korea       WPRO          0  \\\n",
       "204517    2020-01-04           KR  Republic of Korea       WPRO          0   \n",
       "204518    2020-01-05           KR  Republic of Korea       WPRO          0   \n",
       "204519    2020-01-06           KR  Republic of Korea       WPRO          0   \n",
       "204520    2020-01-07           KR  Republic of Korea       WPRO          0   \n",
       "...              ...          ...                ...        ...        ...   \n",
       "205707    2023-04-08           KR  Republic of Korea       WPRO      10372   \n",
       "205708    2023-04-09           KR  Republic of Korea       WPRO       9553   \n",
       "205709    2023-04-10           KR  Republic of Korea       WPRO       4005   \n",
       "205710    2023-04-11           KR  Republic of Korea       WPRO          0   \n",
       "205711    2023-04-12           KR  Republic of Korea       WPRO          0   \n",
       "\n",
       "        Cumulative_cases  New_deaths  Cumulative_deaths  \n",
       "204516                 0           0                  0  \n",
       "204517                 0           0                  0  \n",
       "204518                 0           0                  0  \n",
       "204519                 0           0                  0  \n",
       "204520                 0           0                  0  \n",
       "...                  ...         ...                ...  \n",
       "205707          30904502           4              34315  \n",
       "205708          30914055           2              34317  \n",
       "205709          30918060          15              34332  \n",
       "205710          30918060           0              34332  \n",
       "205711          30918060           0              34332  \n",
       "\n",
       "[1196 rows x 8 columns]"
      ]
     },
     "execution_count": 3,
     "metadata": {},
     "output_type": "execute_result"
    }
   ],
   "source": [
    "df[df['Country_code']=='KR']"
   ]
  },
  {
   "cell_type": "code",
   "execution_count": 4,
   "metadata": {},
   "outputs": [
    {
     "name": "stderr",
     "output_type": "stream",
     "text": [
      "/var/folders/mn/7pmlfsp175s9b73sjyf7qyvc0000gn/T/ipykernel_5049/37785760.py:1: UserWarning: Boolean Series key will be reindexed to match DataFrame index.\n",
      "  df[df['Date_reported']=='2020-03-11'][df['Country_code']=='KR'] #Original pandemic declaration\n"
     ]
    },
    {
     "data": {
      "text/html": [
       "<div>\n",
       "<style scoped>\n",
       "    .dataframe tbody tr th:only-of-type {\n",
       "        vertical-align: middle;\n",
       "    }\n",
       "\n",
       "    .dataframe tbody tr th {\n",
       "        vertical-align: top;\n",
       "    }\n",
       "\n",
       "    .dataframe thead th {\n",
       "        text-align: right;\n",
       "    }\n",
       "</style>\n",
       "<table border=\"1\" class=\"dataframe\">\n",
       "  <thead>\n",
       "    <tr style=\"text-align: right;\">\n",
       "      <th></th>\n",
       "      <th>Date_reported</th>\n",
       "      <th>Country_code</th>\n",
       "      <th>Country</th>\n",
       "      <th>WHO_region</th>\n",
       "      <th>New_cases</th>\n",
       "      <th>Cumulative_cases</th>\n",
       "      <th>New_deaths</th>\n",
       "      <th>Cumulative_deaths</th>\n",
       "    </tr>\n",
       "  </thead>\n",
       "  <tbody>\n",
       "    <tr>\n",
       "      <th>204584</th>\n",
       "      <td>2020-03-11</td>\n",
       "      <td>KR</td>\n",
       "      <td>Republic of Korea</td>\n",
       "      <td>WPRO</td>\n",
       "      <td>242</td>\n",
       "      <td>7755</td>\n",
       "      <td>6</td>\n",
       "      <td>60</td>\n",
       "    </tr>\n",
       "  </tbody>\n",
       "</table>\n",
       "</div>"
      ],
      "text/plain": [
       "       Date_reported Country_code            Country WHO_region  New_cases   \n",
       "204584    2020-03-11           KR  Republic of Korea       WPRO        242  \\\n",
       "\n",
       "        Cumulative_cases  New_deaths  Cumulative_deaths  \n",
       "204584              7755           6                 60  "
      ]
     },
     "execution_count": 4,
     "metadata": {},
     "output_type": "execute_result"
    }
   ],
   "source": [
    "df[df['Date_reported']=='2020-03-11'][df['Country_code']=='KR'] #Original pandemic declaration"
   ]
  },
  {
   "cell_type": "code",
   "execution_count": 5,
   "metadata": {},
   "outputs": [
    {
     "name": "stderr",
     "output_type": "stream",
     "text": [
      "/var/folders/mn/7pmlfsp175s9b73sjyf7qyvc0000gn/T/ipykernel_5049/1678259647.py:1: UserWarning: Boolean Series key will be reindexed to match DataFrame index.\n",
      "  df[df['Date_reported']=='2020-12-18'][df['Country_code']=='KR'] #Alpha\n"
     ]
    },
    {
     "data": {
      "text/html": [
       "<div>\n",
       "<style scoped>\n",
       "    .dataframe tbody tr th:only-of-type {\n",
       "        vertical-align: middle;\n",
       "    }\n",
       "\n",
       "    .dataframe tbody tr th {\n",
       "        vertical-align: top;\n",
       "    }\n",
       "\n",
       "    .dataframe thead th {\n",
       "        text-align: right;\n",
       "    }\n",
       "</style>\n",
       "<table border=\"1\" class=\"dataframe\">\n",
       "  <thead>\n",
       "    <tr style=\"text-align: right;\">\n",
       "      <th></th>\n",
       "      <th>Date_reported</th>\n",
       "      <th>Country_code</th>\n",
       "      <th>Country</th>\n",
       "      <th>WHO_region</th>\n",
       "      <th>New_cases</th>\n",
       "      <th>Cumulative_cases</th>\n",
       "      <th>New_deaths</th>\n",
       "      <th>Cumulative_deaths</th>\n",
       "    </tr>\n",
       "  </thead>\n",
       "  <tbody>\n",
       "    <tr>\n",
       "      <th>204866</th>\n",
       "      <td>2020-12-18</td>\n",
       "      <td>KR</td>\n",
       "      <td>Republic of Korea</td>\n",
       "      <td>WPRO</td>\n",
       "      <td>1064</td>\n",
       "      <td>47512</td>\n",
       "      <td>11</td>\n",
       "      <td>645</td>\n",
       "    </tr>\n",
       "  </tbody>\n",
       "</table>\n",
       "</div>"
      ],
      "text/plain": [
       "       Date_reported Country_code            Country WHO_region  New_cases   \n",
       "204866    2020-12-18           KR  Republic of Korea       WPRO       1064  \\\n",
       "\n",
       "        Cumulative_cases  New_deaths  Cumulative_deaths  \n",
       "204866             47512          11                645  "
      ]
     },
     "execution_count": 5,
     "metadata": {},
     "output_type": "execute_result"
    }
   ],
   "source": [
    "df[df['Date_reported']=='2020-12-18'][df['Country_code']=='KR'] #Alpha"
   ]
  },
  {
   "cell_type": "code",
   "execution_count": 6,
   "metadata": {},
   "outputs": [
    {
     "name": "stderr",
     "output_type": "stream",
     "text": [
      "/var/folders/mn/7pmlfsp175s9b73sjyf7qyvc0000gn/T/ipykernel_5049/248440370.py:1: UserWarning: Boolean Series key will be reindexed to match DataFrame index.\n",
      "  df[df['Date_reported']=='2021-01-11'][df['Country_code']=='KR'] #Gamma\n"
     ]
    },
    {
     "data": {
      "text/html": [
       "<div>\n",
       "<style scoped>\n",
       "    .dataframe tbody tr th:only-of-type {\n",
       "        vertical-align: middle;\n",
       "    }\n",
       "\n",
       "    .dataframe tbody tr th {\n",
       "        vertical-align: top;\n",
       "    }\n",
       "\n",
       "    .dataframe thead th {\n",
       "        text-align: right;\n",
       "    }\n",
       "</style>\n",
       "<table border=\"1\" class=\"dataframe\">\n",
       "  <thead>\n",
       "    <tr style=\"text-align: right;\">\n",
       "      <th></th>\n",
       "      <th>Date_reported</th>\n",
       "      <th>Country_code</th>\n",
       "      <th>Country</th>\n",
       "      <th>WHO_region</th>\n",
       "      <th>New_cases</th>\n",
       "      <th>Cumulative_cases</th>\n",
       "      <th>New_deaths</th>\n",
       "      <th>Cumulative_deaths</th>\n",
       "    </tr>\n",
       "  </thead>\n",
       "  <tbody>\n",
       "    <tr>\n",
       "      <th>204890</th>\n",
       "      <td>2021-01-11</td>\n",
       "      <td>KR</td>\n",
       "      <td>Republic of Korea</td>\n",
       "      <td>WPRO</td>\n",
       "      <td>451</td>\n",
       "      <td>69095</td>\n",
       "      <td>15</td>\n",
       "      <td>1140</td>\n",
       "    </tr>\n",
       "  </tbody>\n",
       "</table>\n",
       "</div>"
      ],
      "text/plain": [
       "       Date_reported Country_code            Country WHO_region  New_cases   \n",
       "204890    2021-01-11           KR  Republic of Korea       WPRO        451  \\\n",
       "\n",
       "        Cumulative_cases  New_deaths  Cumulative_deaths  \n",
       "204890             69095          15               1140  "
      ]
     },
     "execution_count": 6,
     "metadata": {},
     "output_type": "execute_result"
    }
   ],
   "source": [
    "df[df['Date_reported']=='2021-01-11'][df['Country_code']=='KR'] #Gamma"
   ]
  },
  {
   "cell_type": "code",
   "execution_count": 7,
   "metadata": {},
   "outputs": [
    {
     "name": "stderr",
     "output_type": "stream",
     "text": [
      "/var/folders/mn/7pmlfsp175s9b73sjyf7qyvc0000gn/T/ipykernel_5049/1095652078.py:1: UserWarning: Boolean Series key will be reindexed to match DataFrame index.\n",
      "  df[df['Date_reported']=='2021-04-04'][df['Country_code']=='KR'] #Delta\n"
     ]
    },
    {
     "data": {
      "text/html": [
       "<div>\n",
       "<style scoped>\n",
       "    .dataframe tbody tr th:only-of-type {\n",
       "        vertical-align: middle;\n",
       "    }\n",
       "\n",
       "    .dataframe tbody tr th {\n",
       "        vertical-align: top;\n",
       "    }\n",
       "\n",
       "    .dataframe thead th {\n",
       "        text-align: right;\n",
       "    }\n",
       "</style>\n",
       "<table border=\"1\" class=\"dataframe\">\n",
       "  <thead>\n",
       "    <tr style=\"text-align: right;\">\n",
       "      <th></th>\n",
       "      <th>Date_reported</th>\n",
       "      <th>Country_code</th>\n",
       "      <th>Country</th>\n",
       "      <th>WHO_region</th>\n",
       "      <th>New_cases</th>\n",
       "      <th>Cumulative_cases</th>\n",
       "      <th>New_deaths</th>\n",
       "      <th>Cumulative_deaths</th>\n",
       "    </tr>\n",
       "  </thead>\n",
       "  <tbody>\n",
       "    <tr>\n",
       "      <th>204973</th>\n",
       "      <td>2021-04-04</td>\n",
       "      <td>KR</td>\n",
       "      <td>Republic of Korea</td>\n",
       "      <td>WPRO</td>\n",
       "      <td>543</td>\n",
       "      <td>105274</td>\n",
       "      <td>4</td>\n",
       "      <td>1744</td>\n",
       "    </tr>\n",
       "  </tbody>\n",
       "</table>\n",
       "</div>"
      ],
      "text/plain": [
       "       Date_reported Country_code            Country WHO_region  New_cases   \n",
       "204973    2021-04-04           KR  Republic of Korea       WPRO        543  \\\n",
       "\n",
       "        Cumulative_cases  New_deaths  Cumulative_deaths  \n",
       "204973            105274           4               1744  "
      ]
     },
     "execution_count": 7,
     "metadata": {},
     "output_type": "execute_result"
    }
   ],
   "source": [
    "df[df['Date_reported']=='2021-04-04'][df['Country_code']=='KR'] #Delta"
   ]
  },
  {
   "cell_type": "code",
   "execution_count": 8,
   "metadata": {},
   "outputs": [
    {
     "name": "stderr",
     "output_type": "stream",
     "text": [
      "/var/folders/mn/7pmlfsp175s9b73sjyf7qyvc0000gn/T/ipykernel_5049/3629088831.py:1: UserWarning: Boolean Series key will be reindexed to match DataFrame index.\n",
      "  df[df['Date_reported']=='2021-11-26'][df['Country_code']=='KR'] #Omicron\n"
     ]
    },
    {
     "data": {
      "text/html": [
       "<div>\n",
       "<style scoped>\n",
       "    .dataframe tbody tr th:only-of-type {\n",
       "        vertical-align: middle;\n",
       "    }\n",
       "\n",
       "    .dataframe tbody tr th {\n",
       "        vertical-align: top;\n",
       "    }\n",
       "\n",
       "    .dataframe thead th {\n",
       "        text-align: right;\n",
       "    }\n",
       "</style>\n",
       "<table border=\"1\" class=\"dataframe\">\n",
       "  <thead>\n",
       "    <tr style=\"text-align: right;\">\n",
       "      <th></th>\n",
       "      <th>Date_reported</th>\n",
       "      <th>Country_code</th>\n",
       "      <th>Country</th>\n",
       "      <th>WHO_region</th>\n",
       "      <th>New_cases</th>\n",
       "      <th>Cumulative_cases</th>\n",
       "      <th>New_deaths</th>\n",
       "      <th>Cumulative_deaths</th>\n",
       "    </tr>\n",
       "  </thead>\n",
       "  <tbody>\n",
       "    <tr>\n",
       "      <th>205209</th>\n",
       "      <td>2021-11-26</td>\n",
       "      <td>KR</td>\n",
       "      <td>Republic of Korea</td>\n",
       "      <td>WPRO</td>\n",
       "      <td>3901</td>\n",
       "      <td>432901</td>\n",
       "      <td>39</td>\n",
       "      <td>3440</td>\n",
       "    </tr>\n",
       "  </tbody>\n",
       "</table>\n",
       "</div>"
      ],
      "text/plain": [
       "       Date_reported Country_code            Country WHO_region  New_cases   \n",
       "205209    2021-11-26           KR  Republic of Korea       WPRO       3901  \\\n",
       "\n",
       "        Cumulative_cases  New_deaths  Cumulative_deaths  \n",
       "205209            432901          39               3440  "
      ]
     },
     "execution_count": 8,
     "metadata": {},
     "output_type": "execute_result"
    }
   ],
   "source": [
    "df[df['Date_reported']=='2021-11-26'][df['Country_code']=='KR'] #Omicron"
   ]
  },
  {
   "cell_type": "code",
   "execution_count": 9,
   "metadata": {},
   "outputs": [
    {
     "data": {
      "text/plain": [
       "204532    0.00000\n",
       "204533    0.00000\n",
       "204534    0.00000\n",
       "204535    0.00000\n",
       "204536    0.00000\n",
       "           ...   \n",
       "205707    0.00111\n",
       "205708    0.00111\n",
       "205709    0.00111\n",
       "205710    0.00111\n",
       "205711    0.00111\n",
       "Length: 1180, dtype: float64"
      ]
     },
     "execution_count": 9,
     "metadata": {},
     "output_type": "execute_result"
    }
   ],
   "source": [
    "(df[df['Country_code']=='KR']['Cumulative_deaths'] / df[df['Country_code']=='KR']['Cumulative_cases']).dropna()"
   ]
  },
  {
   "cell_type": "code",
   "execution_count": 10,
   "metadata": {},
   "outputs": [
    {
     "data": {
      "image/png": "[encoded data removed]",
      "text/plain": [
       "<Figure size 640x480 with 1 Axes>"
      ]
     },
     "metadata": {},
     "output_type": "display_data"
    }
   ],
   "source": [
    "plt.plot((df[df['Country_code']=='KR']['New_cases']).dropna())\n",
    "plt.title('New cases of SARS-CoV-2 in KOREA')\n",
    "#Pandemic Declaration\n",
    "plt.axvline(x=204584, color='k', linestyle='--')\n",
    "#Alpha\n",
    "plt.axvline(x=204866, color='k', linestyle='--')\n",
    "#Gamma\n",
    "plt.axvline(x=204890, color='k', linestyle='--')\n",
    "#Delta\n",
    "plt.axvline(x=204973, color='k', linestyle='--')\n",
    "#Omicron\n",
    "plt.axvline(x=205209, color='k', linestyle='--')\n",
    "plt.savefig('./Figures/KR_nc.png', dpi=500)\n",
    "plt.show()\n"
   ]
  },
  {
   "cell_type": "code",
   "execution_count": 11,
   "metadata": {},
   "outputs": [
    {
     "data": {
      "image/png": "[encoded data removed]",
      "text/plain": [
       "<Figure size 640x480 with 1 Axes>"
      ]
     },
     "metadata": {},
     "output_type": "display_data"
    }
   ],
   "source": [
    "plt.plot(df[df['Country_code']=='KR']['New_deaths'])\n",
    "plt.title('New deaths of SARS-CoV-2 in KOREA')\n",
    "#Pandemic Declaration\n",
    "plt.axvline(x=204584, color='k', linestyle='--')\n",
    "#Alpha\n",
    "plt.axvline(x=204866, color='k', linestyle='--')\n",
    "#Gamma\n",
    "plt.axvline(x=204890, color='k', linestyle='--')\n",
    "#Delta\n",
    "plt.axvline(x=204973, color='k', linestyle='--')\n",
    "#Omicron\n",
    "plt.axvline(x=205209, color='k', linestyle='--')\n",
    "plt.savefig('./Figures/KR_nd.png', dpi=500)\n",
    "plt.show()"
   ]
  },
  {
   "cell_type": "code",
   "execution_count": 12,
   "metadata": {},
   "outputs": [
    {
     "data": {
      "image/png": "[encoded data removed]",
      "text/plain": [
       "<Figure size 640x480 with 1 Axes>"
      ]
     },
     "metadata": {},
     "output_type": "display_data"
    }
   ],
   "source": [
    "plt.plot((df[df['Country_code']=='KR']['New_deaths'] / df[df['Country_code']=='KR']['New_cases']).dropna())\n",
    "plt.title('Fatality rate of SARS-CoV-2 in KOREA')\n",
    "#Pandemic Declaration\n",
    "plt.axvline(x=204584, color='k', linestyle='--')\n",
    "#Alpha\n",
    "plt.axvline(x=204866, color='k', linestyle='--')\n",
    "#Gamma\n",
    "plt.axvline(x=204890, color='k', linestyle='--')\n",
    "#Delta\n",
    "plt.axvline(x=204973, color='k', linestyle='--')\n",
    "#Omicron\n",
    "plt.axvline(x=205209, color='k', linestyle='--')\n",
    "plt.savefig('./Figures/KR_dr.png', dpi=500)\n",
    "plt.show()"
   ]
  }
 ],
 "metadata": {
  "kernelspec": {
   "display_name": "Python 3",
   "language": "python",
   "name": "python3"
  },
  "language_info": {
   "codemirror_mode": {
    "name": "ipython",
    "version": 3
   },
   "file_extension": ".py",
   "mimetype": "text/x-python",
   "name": "python",
   "nbconvert_exporter": "python",
   "pygments_lexer": "ipython3",
   "version": "3.11.2"
  },
  "orig_nbformat": 4
 },
 "nbformat": 4,
 "nbformat_minor": 2
}
