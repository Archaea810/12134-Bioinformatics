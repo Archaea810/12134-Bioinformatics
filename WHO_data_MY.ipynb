{
 "cells": [
  {
   "cell_type": "code",
   "execution_count": 13,
   "metadata": {},
   "outputs": [],
   "source": [
    "import pandas as pd\n",
    "import matplotlib.pyplot as plt\n",
    "import numpy as np"
   ]
  },
  {
   "cell_type": "code",
   "execution_count": 14,
   "metadata": {},
   "outputs": [],
   "source": [
    "df = pd.read_csv('WHO-COVID-19-global-data.csv')\n",
    "df.loc[df['New_deaths'] < 0, 'New_deaths'] = 0\n",
    "df.loc[df['New_cases'] < 0, 'New_cases'] = 0"
   ]
  },
  {
   "cell_type": "code",
   "execution_count": 15,
   "metadata": {},
   "outputs": [
    {
     "data": {
      "text/html": [
       "<div>\n",
       "<style scoped>\n",
       "    .dataframe tbody tr th:only-of-type {\n",
       "        vertical-align: middle;\n",
       "    }\n",
       "\n",
       "    .dataframe tbody tr th {\n",
       "        vertical-align: top;\n",
       "    }\n",
       "\n",
       "    .dataframe thead th {\n",
       "        text-align: right;\n",
       "    }\n",
       "</style>\n",
       "<table border=\"1\" class=\"dataframe\">\n",
       "  <thead>\n",
       "    <tr style=\"text-align: right;\">\n",
       "      <th></th>\n",
       "      <th>Date_reported</th>\n",
       "      <th>Country_code</th>\n",
       "      <th>Country</th>\n",
       "      <th>WHO_region</th>\n",
       "      <th>New_cases</th>\n",
       "      <th>Cumulative_cases</th>\n",
       "      <th>New_deaths</th>\n",
       "      <th>Cumulative_deaths</th>\n",
       "    </tr>\n",
       "  </thead>\n",
       "  <tbody>\n",
       "    <tr>\n",
       "      <th>149500</th>\n",
       "      <td>2020-01-03</td>\n",
       "      <td>MY</td>\n",
       "      <td>Malaysia</td>\n",
       "      <td>WPRO</td>\n",
       "      <td>0</td>\n",
       "      <td>0</td>\n",
       "      <td>0</td>\n",
       "      <td>0</td>\n",
       "    </tr>\n",
       "    <tr>\n",
       "      <th>149501</th>\n",
       "      <td>2020-01-04</td>\n",
       "      <td>MY</td>\n",
       "      <td>Malaysia</td>\n",
       "      <td>WPRO</td>\n",
       "      <td>0</td>\n",
       "      <td>0</td>\n",
       "      <td>0</td>\n",
       "      <td>0</td>\n",
       "    </tr>\n",
       "    <tr>\n",
       "      <th>149502</th>\n",
       "      <td>2020-01-05</td>\n",
       "      <td>MY</td>\n",
       "      <td>Malaysia</td>\n",
       "      <td>WPRO</td>\n",
       "      <td>0</td>\n",
       "      <td>0</td>\n",
       "      <td>0</td>\n",
       "      <td>0</td>\n",
       "    </tr>\n",
       "    <tr>\n",
       "      <th>149503</th>\n",
       "      <td>2020-01-06</td>\n",
       "      <td>MY</td>\n",
       "      <td>Malaysia</td>\n",
       "      <td>WPRO</td>\n",
       "      <td>0</td>\n",
       "      <td>0</td>\n",
       "      <td>0</td>\n",
       "      <td>0</td>\n",
       "    </tr>\n",
       "    <tr>\n",
       "      <th>149504</th>\n",
       "      <td>2020-01-07</td>\n",
       "      <td>MY</td>\n",
       "      <td>Malaysia</td>\n",
       "      <td>WPRO</td>\n",
       "      <td>0</td>\n",
       "      <td>0</td>\n",
       "      <td>0</td>\n",
       "      <td>0</td>\n",
       "    </tr>\n",
       "    <tr>\n",
       "      <th>...</th>\n",
       "      <td>...</td>\n",
       "      <td>...</td>\n",
       "      <td>...</td>\n",
       "      <td>...</td>\n",
       "      <td>...</td>\n",
       "      <td>...</td>\n",
       "      <td>...</td>\n",
       "      <td>...</td>\n",
       "    </tr>\n",
       "    <tr>\n",
       "      <th>150691</th>\n",
       "      <td>2023-04-08</td>\n",
       "      <td>MY</td>\n",
       "      <td>Malaysia</td>\n",
       "      <td>WPRO</td>\n",
       "      <td>0</td>\n",
       "      <td>5052337</td>\n",
       "      <td>0</td>\n",
       "      <td>36982</td>\n",
       "    </tr>\n",
       "    <tr>\n",
       "      <th>150692</th>\n",
       "      <td>2023-04-09</td>\n",
       "      <td>MY</td>\n",
       "      <td>Malaysia</td>\n",
       "      <td>WPRO</td>\n",
       "      <td>0</td>\n",
       "      <td>5052337</td>\n",
       "      <td>0</td>\n",
       "      <td>36982</td>\n",
       "    </tr>\n",
       "    <tr>\n",
       "      <th>150693</th>\n",
       "      <td>2023-04-10</td>\n",
       "      <td>MY</td>\n",
       "      <td>Malaysia</td>\n",
       "      <td>WPRO</td>\n",
       "      <td>0</td>\n",
       "      <td>5052337</td>\n",
       "      <td>0</td>\n",
       "      <td>36982</td>\n",
       "    </tr>\n",
       "    <tr>\n",
       "      <th>150694</th>\n",
       "      <td>2023-04-11</td>\n",
       "      <td>MY</td>\n",
       "      <td>Malaysia</td>\n",
       "      <td>WPRO</td>\n",
       "      <td>0</td>\n",
       "      <td>5052337</td>\n",
       "      <td>0</td>\n",
       "      <td>36982</td>\n",
       "    </tr>\n",
       "    <tr>\n",
       "      <th>150695</th>\n",
       "      <td>2023-04-12</td>\n",
       "      <td>MY</td>\n",
       "      <td>Malaysia</td>\n",
       "      <td>WPRO</td>\n",
       "      <td>0</td>\n",
       "      <td>5052337</td>\n",
       "      <td>0</td>\n",
       "      <td>36982</td>\n",
       "    </tr>\n",
       "  </tbody>\n",
       "</table>\n",
       "<p>1196 rows × 8 columns</p>\n",
       "</div>"
      ],
      "text/plain": [
       "       Date_reported Country_code   Country WHO_region  New_cases   \n",
       "149500    2020-01-03           MY  Malaysia       WPRO          0  \\\n",
       "149501    2020-01-04           MY  Malaysia       WPRO          0   \n",
       "149502    2020-01-05           MY  Malaysia       WPRO          0   \n",
       "149503    2020-01-06           MY  Malaysia       WPRO          0   \n",
       "149504    2020-01-07           MY  Malaysia       WPRO          0   \n",
       "...              ...          ...       ...        ...        ...   \n",
       "150691    2023-04-08           MY  Malaysia       WPRO          0   \n",
       "150692    2023-04-09           MY  Malaysia       WPRO          0   \n",
       "150693    2023-04-10           MY  Malaysia       WPRO          0   \n",
       "150694    2023-04-11           MY  Malaysia       WPRO          0   \n",
       "150695    2023-04-12           MY  Malaysia       WPRO          0   \n",
       "\n",
       "        Cumulative_cases  New_deaths  Cumulative_deaths  \n",
       "149500                 0           0                  0  \n",
       "149501                 0           0                  0  \n",
       "149502                 0           0                  0  \n",
       "149503                 0           0                  0  \n",
       "149504                 0           0                  0  \n",
       "...                  ...         ...                ...  \n",
       "150691           5052337           0              36982  \n",
       "150692           5052337           0              36982  \n",
       "150693           5052337           0              36982  \n",
       "150694           5052337           0              36982  \n",
       "150695           5052337           0              36982  \n",
       "\n",
       "[1196 rows x 8 columns]"
      ]
     },
     "execution_count": 15,
     "metadata": {},
     "output_type": "execute_result"
    }
   ],
   "source": [
    "df[df['Country_code']=='MY']"
   ]
  },
  {
   "cell_type": "code",
   "execution_count": 16,
   "metadata": {},
   "outputs": [
    {
     "name": "stderr",
     "output_type": "stream",
     "text": [
      "/var/folders/mn/7pmlfsp175s9b73sjyf7qyvc0000gn/T/ipykernel_6585/2062489634.py:1: UserWarning: Boolean Series key will be reindexed to match DataFrame index.\n",
      "  df[df['Date_reported']=='2020-03-11'][df['Country_code']=='MY'] #Original pandemic declaration\n"
     ]
    },
    {
     "data": {
      "text/html": [
       "<div>\n",
       "<style scoped>\n",
       "    .dataframe tbody tr th:only-of-type {\n",
       "        vertical-align: middle;\n",
       "    }\n",
       "\n",
       "    .dataframe tbody tr th {\n",
       "        vertical-align: top;\n",
       "    }\n",
       "\n",
       "    .dataframe thead th {\n",
       "        text-align: right;\n",
       "    }\n",
       "</style>\n",
       "<table border=\"1\" class=\"dataframe\">\n",
       "  <thead>\n",
       "    <tr style=\"text-align: right;\">\n",
       "      <th></th>\n",
       "      <th>Date_reported</th>\n",
       "      <th>Country_code</th>\n",
       "      <th>Country</th>\n",
       "      <th>WHO_region</th>\n",
       "      <th>New_cases</th>\n",
       "      <th>Cumulative_cases</th>\n",
       "      <th>New_deaths</th>\n",
       "      <th>Cumulative_deaths</th>\n",
       "    </tr>\n",
       "  </thead>\n",
       "  <tbody>\n",
       "    <tr>\n",
       "      <th>149568</th>\n",
       "      <td>2020-03-11</td>\n",
       "      <td>MY</td>\n",
       "      <td>Malaysia</td>\n",
       "      <td>WPRO</td>\n",
       "      <td>0</td>\n",
       "      <td>117</td>\n",
       "      <td>0</td>\n",
       "      <td>0</td>\n",
       "    </tr>\n",
       "  </tbody>\n",
       "</table>\n",
       "</div>"
      ],
      "text/plain": [
       "       Date_reported Country_code   Country WHO_region  New_cases   \n",
       "149568    2020-03-11           MY  Malaysia       WPRO          0  \\\n",
       "\n",
       "        Cumulative_cases  New_deaths  Cumulative_deaths  \n",
       "149568               117           0                  0  "
      ]
     },
     "execution_count": 16,
     "metadata": {},
     "output_type": "execute_result"
    }
   ],
   "source": [
    "df[df['Date_reported']=='2020-03-11'][df['Country_code']=='MY'] #Original pandemic declaration"
   ]
  },
  {
   "cell_type": "code",
   "execution_count": 17,
   "metadata": {},
   "outputs": [
    {
     "name": "stderr",
     "output_type": "stream",
     "text": [
      "/var/folders/mn/7pmlfsp175s9b73sjyf7qyvc0000gn/T/ipykernel_6585/202387012.py:1: UserWarning: Boolean Series key will be reindexed to match DataFrame index.\n",
      "  df[df['Date_reported']=='2020-12-18'][df['Country_code']=='MY'] #Alpha\n"
     ]
    },
    {
     "data": {
      "text/html": [
       "<div>\n",
       "<style scoped>\n",
       "    .dataframe tbody tr th:only-of-type {\n",
       "        vertical-align: middle;\n",
       "    }\n",
       "\n",
       "    .dataframe tbody tr th {\n",
       "        vertical-align: top;\n",
       "    }\n",
       "\n",
       "    .dataframe thead th {\n",
       "        text-align: right;\n",
       "    }\n",
       "</style>\n",
       "<table border=\"1\" class=\"dataframe\">\n",
       "  <thead>\n",
       "    <tr style=\"text-align: right;\">\n",
       "      <th></th>\n",
       "      <th>Date_reported</th>\n",
       "      <th>Country_code</th>\n",
       "      <th>Country</th>\n",
       "      <th>WHO_region</th>\n",
       "      <th>New_cases</th>\n",
       "      <th>Cumulative_cases</th>\n",
       "      <th>New_deaths</th>\n",
       "      <th>Cumulative_deaths</th>\n",
       "    </tr>\n",
       "  </thead>\n",
       "  <tbody>\n",
       "    <tr>\n",
       "      <th>149850</th>\n",
       "      <td>2020-12-18</td>\n",
       "      <td>MY</td>\n",
       "      <td>Malaysia</td>\n",
       "      <td>WPRO</td>\n",
       "      <td>1220</td>\n",
       "      <td>89133</td>\n",
       "      <td>3</td>\n",
       "      <td>432</td>\n",
       "    </tr>\n",
       "  </tbody>\n",
       "</table>\n",
       "</div>"
      ],
      "text/plain": [
       "       Date_reported Country_code   Country WHO_region  New_cases   \n",
       "149850    2020-12-18           MY  Malaysia       WPRO       1220  \\\n",
       "\n",
       "        Cumulative_cases  New_deaths  Cumulative_deaths  \n",
       "149850             89133           3                432  "
      ]
     },
     "execution_count": 17,
     "metadata": {},
     "output_type": "execute_result"
    }
   ],
   "source": [
    "df[df['Date_reported']=='2020-12-18'][df['Country_code']=='MY'] #Alpha"
   ]
  },
  {
   "cell_type": "code",
   "execution_count": 18,
   "metadata": {},
   "outputs": [
    {
     "name": "stderr",
     "output_type": "stream",
     "text": [
      "/var/folders/mn/7pmlfsp175s9b73sjyf7qyvc0000gn/T/ipykernel_6585/3590437011.py:1: UserWarning: Boolean Series key will be reindexed to match DataFrame index.\n",
      "  df[df['Date_reported']=='2021-01-11'][df['Country_code']=='MY'] #Gamma\n"
     ]
    },
    {
     "data": {
      "text/html": [
       "<div>\n",
       "<style scoped>\n",
       "    .dataframe tbody tr th:only-of-type {\n",
       "        vertical-align: middle;\n",
       "    }\n",
       "\n",
       "    .dataframe tbody tr th {\n",
       "        vertical-align: top;\n",
       "    }\n",
       "\n",
       "    .dataframe thead th {\n",
       "        text-align: right;\n",
       "    }\n",
       "</style>\n",
       "<table border=\"1\" class=\"dataframe\">\n",
       "  <thead>\n",
       "    <tr style=\"text-align: right;\">\n",
       "      <th></th>\n",
       "      <th>Date_reported</th>\n",
       "      <th>Country_code</th>\n",
       "      <th>Country</th>\n",
       "      <th>WHO_region</th>\n",
       "      <th>New_cases</th>\n",
       "      <th>Cumulative_cases</th>\n",
       "      <th>New_deaths</th>\n",
       "      <th>Cumulative_deaths</th>\n",
       "    </tr>\n",
       "  </thead>\n",
       "  <tbody>\n",
       "    <tr>\n",
       "      <th>149874</th>\n",
       "      <td>2021-01-11</td>\n",
       "      <td>MY</td>\n",
       "      <td>Malaysia</td>\n",
       "      <td>WPRO</td>\n",
       "      <td>2433</td>\n",
       "      <td>135992</td>\n",
       "      <td>9</td>\n",
       "      <td>551</td>\n",
       "    </tr>\n",
       "  </tbody>\n",
       "</table>\n",
       "</div>"
      ],
      "text/plain": [
       "       Date_reported Country_code   Country WHO_region  New_cases   \n",
       "149874    2021-01-11           MY  Malaysia       WPRO       2433  \\\n",
       "\n",
       "        Cumulative_cases  New_deaths  Cumulative_deaths  \n",
       "149874            135992           9                551  "
      ]
     },
     "execution_count": 18,
     "metadata": {},
     "output_type": "execute_result"
    }
   ],
   "source": [
    "df[df['Date_reported']=='2021-01-11'][df['Country_code']=='MY'] #Gamma"
   ]
  },
  {
   "cell_type": "code",
   "execution_count": 19,
   "metadata": {},
   "outputs": [
    {
     "name": "stderr",
     "output_type": "stream",
     "text": [
      "/var/folders/mn/7pmlfsp175s9b73sjyf7qyvc0000gn/T/ipykernel_6585/1003491953.py:1: UserWarning: Boolean Series key will be reindexed to match DataFrame index.\n",
      "  df[df['Date_reported']=='2021-04-04'][df['Country_code']=='MY'] #Delta\n"
     ]
    },
    {
     "data": {
      "text/html": [
       "<div>\n",
       "<style scoped>\n",
       "    .dataframe tbody tr th:only-of-type {\n",
       "        vertical-align: middle;\n",
       "    }\n",
       "\n",
       "    .dataframe tbody tr th {\n",
       "        vertical-align: top;\n",
       "    }\n",
       "\n",
       "    .dataframe thead th {\n",
       "        text-align: right;\n",
       "    }\n",
       "</style>\n",
       "<table border=\"1\" class=\"dataframe\">\n",
       "  <thead>\n",
       "    <tr style=\"text-align: right;\">\n",
       "      <th></th>\n",
       "      <th>Date_reported</th>\n",
       "      <th>Country_code</th>\n",
       "      <th>Country</th>\n",
       "      <th>WHO_region</th>\n",
       "      <th>New_cases</th>\n",
       "      <th>Cumulative_cases</th>\n",
       "      <th>New_deaths</th>\n",
       "      <th>Cumulative_deaths</th>\n",
       "    </tr>\n",
       "  </thead>\n",
       "  <tbody>\n",
       "    <tr>\n",
       "      <th>149957</th>\n",
       "      <td>2021-04-04</td>\n",
       "      <td>MY</td>\n",
       "      <td>Malaysia</td>\n",
       "      <td>WPRO</td>\n",
       "      <td>1638</td>\n",
       "      <td>349610</td>\n",
       "      <td>3</td>\n",
       "      <td>1286</td>\n",
       "    </tr>\n",
       "  </tbody>\n",
       "</table>\n",
       "</div>"
      ],
      "text/plain": [
       "       Date_reported Country_code   Country WHO_region  New_cases   \n",
       "149957    2021-04-04           MY  Malaysia       WPRO       1638  \\\n",
       "\n",
       "        Cumulative_cases  New_deaths  Cumulative_deaths  \n",
       "149957            349610           3               1286  "
      ]
     },
     "execution_count": 19,
     "metadata": {},
     "output_type": "execute_result"
    }
   ],
   "source": [
    "df[df['Date_reported']=='2021-04-04'][df['Country_code']=='MY'] #Delta"
   ]
  },
  {
   "cell_type": "code",
   "execution_count": 20,
   "metadata": {},
   "outputs": [
    {
     "name": "stderr",
     "output_type": "stream",
     "text": [
      "/var/folders/mn/7pmlfsp175s9b73sjyf7qyvc0000gn/T/ipykernel_6585/2454391244.py:1: UserWarning: Boolean Series key will be reindexed to match DataFrame index.\n",
      "  df[df['Date_reported']=='2021-11-26'][df['Country_code']=='MY'] #Omicron\n"
     ]
    },
    {
     "data": {
      "text/html": [
       "<div>\n",
       "<style scoped>\n",
       "    .dataframe tbody tr th:only-of-type {\n",
       "        vertical-align: middle;\n",
       "    }\n",
       "\n",
       "    .dataframe tbody tr th {\n",
       "        vertical-align: top;\n",
       "    }\n",
       "\n",
       "    .dataframe thead th {\n",
       "        text-align: right;\n",
       "    }\n",
       "</style>\n",
       "<table border=\"1\" class=\"dataframe\">\n",
       "  <thead>\n",
       "    <tr style=\"text-align: right;\">\n",
       "      <th></th>\n",
       "      <th>Date_reported</th>\n",
       "      <th>Country_code</th>\n",
       "      <th>Country</th>\n",
       "      <th>WHO_region</th>\n",
       "      <th>New_cases</th>\n",
       "      <th>Cumulative_cases</th>\n",
       "      <th>New_deaths</th>\n",
       "      <th>Cumulative_deaths</th>\n",
       "    </tr>\n",
       "  </thead>\n",
       "  <tbody>\n",
       "    <tr>\n",
       "      <th>150193</th>\n",
       "      <td>2021-11-26</td>\n",
       "      <td>MY</td>\n",
       "      <td>Malaysia</td>\n",
       "      <td>WPRO</td>\n",
       "      <td>6144</td>\n",
       "      <td>2608979</td>\n",
       "      <td>48</td>\n",
       "      <td>30195</td>\n",
       "    </tr>\n",
       "  </tbody>\n",
       "</table>\n",
       "</div>"
      ],
      "text/plain": [
       "       Date_reported Country_code   Country WHO_region  New_cases   \n",
       "150193    2021-11-26           MY  Malaysia       WPRO       6144  \\\n",
       "\n",
       "        Cumulative_cases  New_deaths  Cumulative_deaths  \n",
       "150193           2608979          48              30195  "
      ]
     },
     "execution_count": 20,
     "metadata": {},
     "output_type": "execute_result"
    }
   ],
   "source": [
    "df[df['Date_reported']=='2021-11-26'][df['Country_code']=='MY'] #Omicron"
   ]
  },
  {
   "cell_type": "code",
   "execution_count": 21,
   "metadata": {},
   "outputs": [
    {
     "data": {
      "text/plain": [
       "149523    0.00000\n",
       "149524    0.00000\n",
       "149525    0.00000\n",
       "149526    0.00000\n",
       "149527    0.00000\n",
       "           ...   \n",
       "150691    0.00732\n",
       "150692    0.00732\n",
       "150693    0.00732\n",
       "150694    0.00732\n",
       "150695    0.00732\n",
       "Length: 1173, dtype: float64"
      ]
     },
     "execution_count": 21,
     "metadata": {},
     "output_type": "execute_result"
    }
   ],
   "source": [
    "(df[df['Country_code']=='MY']['Cumulative_deaths'] / df[df['Country_code']=='MY']['Cumulative_cases']).dropna()"
   ]
  },
  {
   "cell_type": "code",
   "execution_count": 22,
   "metadata": {},
   "outputs": [
    {
     "data": {
      "image/png": "[encoded data removed]",
      "text/plain": [
       "<Figure size 640x480 with 1 Axes>"
      ]
     },
     "metadata": {},
     "output_type": "display_data"
    }
   ],
   "source": [
    "plt.plot((df[df['Country_code']=='MY']['New_cases']).dropna())\n",
    "plt.title('New cases of SARS-CoV-2 in MALAYSIA')\n",
    "#Pandemic Declaration\n",
    "plt.axvline(x=149568, color='k', linestyle='--')\n",
    "#Alpha\n",
    "plt.axvline(x=149850, color='k', linestyle='--')\n",
    "#Gamma\n",
    "plt.axvline(x=149874, color='k', linestyle='--')\n",
    "#Delta\n",
    "plt.axvline(x=149957, color='k', linestyle='--')\n",
    "#Omicron\n",
    "plt.axvline(x=150193, color='k', linestyle='--')\n",
    "plt.savefig('./Figures/MY_nc.png', dpi=500)\n",
    "plt.show()\n"
   ]
  },
  {
   "cell_type": "code",
   "execution_count": 23,
   "metadata": {},
   "outputs": [
    {
     "data": {
      "image/png": "[encoded data removed]",
      "text/plain": [
       "<Figure size 640x480 with 1 Axes>"
      ]
     },
     "metadata": {},
     "output_type": "display_data"
    }
   ],
   "source": [
    "plt.plot(df[df['Country_code']=='MY']['New_deaths'])\n",
    "plt.title('New deaths of SARS-CoV-2 in MALAYSIA')\n",
    "#Pandemic Declaration\n",
    "plt.axvline(x=149568, color='k', linestyle='--')\n",
    "#Alpha\n",
    "plt.axvline(x=149850, color='k', linestyle='--')\n",
    "#Gamma\n",
    "plt.axvline(x=149874, color='k', linestyle='--')\n",
    "#Delta\n",
    "plt.axvline(x=149957, color='k', linestyle='--')\n",
    "#Omicron\n",
    "plt.axvline(x=150193, color='k', linestyle='--')\n",
    "plt.savefig('./Figures/MY_nd.png', dpi=500)\n",
    "plt.show()"
   ]
  },
  {
   "cell_type": "code",
   "execution_count": 24,
   "metadata": {},
   "outputs": [
    {
     "data": {
      "image/png": "[encoded data removed]",
      "text/plain": [
       "<Figure size 640x480 with 1 Axes>"
      ]
     },
     "metadata": {},
     "output_type": "display_data"
    }
   ],
   "source": [
    "plt.plot((df[df['Country_code']=='MY']['New_deaths'] / df[df['Country_code']=='MY']['New_cases']).dropna())\n",
    "plt.title('Fatality rate of SARS-CoV-2 in MALAYSIA')\n",
    "#Pandemic Declaration\n",
    "plt.axvline(x=149568, color='k', linestyle='--')\n",
    "#Alpha\n",
    "plt.axvline(x=149850, color='k', linestyle='--')\n",
    "#Gamma\n",
    "plt.axvline(x=149874, color='k', linestyle='--')\n",
    "#Delta\n",
    "plt.axvline(x=149957, color='k', linestyle='--')\n",
    "#Omicron\n",
    "plt.axvline(x=150193, color='k', linestyle='--')\n",
    "plt.savefig('./Figures/MY_dr.png', dpi=500)\n",
    "plt.show()"
   ]
  }
 ],
 "metadata": {
  "kernelspec": {
   "display_name": "Python 3",
   "language": "python",
   "name": "python3"
  },
  "language_info": {
   "codemirror_mode": {
    "name": "ipython",
    "version": 3
   },
   "file_extension": ".py",
   "mimetype": "text/x-python",
   "name": "python",
   "nbconvert_exporter": "python",
   "pygments_lexer": "ipython3",
   "version": "3.11.2"
  },
  "orig_nbformat": 4
 },
 "nbformat": 4,
 "nbformat_minor": 2
}
