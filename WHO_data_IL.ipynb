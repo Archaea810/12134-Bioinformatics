{
 "cells": [
  {
   "cell_type": "code",
   "execution_count": 13,
   "metadata": {},
   "outputs": [],
   "source": [
    "import pandas as pd\n",
    "import matplotlib.pyplot as plt\n",
    "import numpy as np"
   ]
  },
  {
   "cell_type": "code",
   "execution_count": 14,
   "metadata": {},
   "outputs": [],
   "source": [
    "df = pd.read_csv('WHO-COVID-19-global-data.csv')\n",
    "df.loc[df['New_deaths'] < 0, 'New_deaths'] = 0\n",
    "df.loc[df['New_cases'] < 0, 'New_cases'] = 0"
   ]
  },
  {
   "cell_type": "code",
   "execution_count": 15,
   "metadata": {},
   "outputs": [
    {
     "data": {
      "text/html": [
       "<div>\n",
       "<style scoped>\n",
       "    .dataframe tbody tr th:only-of-type {\n",
       "        vertical-align: middle;\n",
       "    }\n",
       "\n",
       "    .dataframe tbody tr th {\n",
       "        vertical-align: top;\n",
       "    }\n",
       "\n",
       "    .dataframe thead th {\n",
       "        text-align: right;\n",
       "    }\n",
       "</style>\n",
       "<table border=\"1\" class=\"dataframe\">\n",
       "  <thead>\n",
       "    <tr style=\"text-align: right;\">\n",
       "      <th></th>\n",
       "      <th>Date_reported</th>\n",
       "      <th>Country_code</th>\n",
       "      <th>Country</th>\n",
       "      <th>WHO_region</th>\n",
       "      <th>New_cases</th>\n",
       "      <th>Cumulative_cases</th>\n",
       "      <th>New_deaths</th>\n",
       "      <th>Cumulative_deaths</th>\n",
       "    </tr>\n",
       "  </thead>\n",
       "  <tbody>\n",
       "    <tr>\n",
       "      <th>121992</th>\n",
       "      <td>2020-01-03</td>\n",
       "      <td>IL</td>\n",
       "      <td>Israel</td>\n",
       "      <td>EURO</td>\n",
       "      <td>0</td>\n",
       "      <td>0</td>\n",
       "      <td>0</td>\n",
       "      <td>0</td>\n",
       "    </tr>\n",
       "    <tr>\n",
       "      <th>121993</th>\n",
       "      <td>2020-01-04</td>\n",
       "      <td>IL</td>\n",
       "      <td>Israel</td>\n",
       "      <td>EURO</td>\n",
       "      <td>0</td>\n",
       "      <td>0</td>\n",
       "      <td>0</td>\n",
       "      <td>0</td>\n",
       "    </tr>\n",
       "    <tr>\n",
       "      <th>121994</th>\n",
       "      <td>2020-01-05</td>\n",
       "      <td>IL</td>\n",
       "      <td>Israel</td>\n",
       "      <td>EURO</td>\n",
       "      <td>0</td>\n",
       "      <td>0</td>\n",
       "      <td>0</td>\n",
       "      <td>0</td>\n",
       "    </tr>\n",
       "    <tr>\n",
       "      <th>121995</th>\n",
       "      <td>2020-01-06</td>\n",
       "      <td>IL</td>\n",
       "      <td>Israel</td>\n",
       "      <td>EURO</td>\n",
       "      <td>0</td>\n",
       "      <td>0</td>\n",
       "      <td>0</td>\n",
       "      <td>0</td>\n",
       "    </tr>\n",
       "    <tr>\n",
       "      <th>121996</th>\n",
       "      <td>2020-01-07</td>\n",
       "      <td>IL</td>\n",
       "      <td>Israel</td>\n",
       "      <td>EURO</td>\n",
       "      <td>0</td>\n",
       "      <td>0</td>\n",
       "      <td>0</td>\n",
       "      <td>0</td>\n",
       "    </tr>\n",
       "    <tr>\n",
       "      <th>...</th>\n",
       "      <td>...</td>\n",
       "      <td>...</td>\n",
       "      <td>...</td>\n",
       "      <td>...</td>\n",
       "      <td>...</td>\n",
       "      <td>...</td>\n",
       "      <td>...</td>\n",
       "      <td>...</td>\n",
       "    </tr>\n",
       "    <tr>\n",
       "      <th>123183</th>\n",
       "      <td>2023-04-08</td>\n",
       "      <td>IL</td>\n",
       "      <td>Israel</td>\n",
       "      <td>EURO</td>\n",
       "      <td>239</td>\n",
       "      <td>4816438</td>\n",
       "      <td>0</td>\n",
       "      <td>12416</td>\n",
       "    </tr>\n",
       "    <tr>\n",
       "      <th>123184</th>\n",
       "      <td>2023-04-09</td>\n",
       "      <td>IL</td>\n",
       "      <td>Israel</td>\n",
       "      <td>EURO</td>\n",
       "      <td>185</td>\n",
       "      <td>4816623</td>\n",
       "      <td>0</td>\n",
       "      <td>12416</td>\n",
       "    </tr>\n",
       "    <tr>\n",
       "      <th>123185</th>\n",
       "      <td>2023-04-10</td>\n",
       "      <td>IL</td>\n",
       "      <td>Israel</td>\n",
       "      <td>EURO</td>\n",
       "      <td>299</td>\n",
       "      <td>4816922</td>\n",
       "      <td>0</td>\n",
       "      <td>12416</td>\n",
       "    </tr>\n",
       "    <tr>\n",
       "      <th>123186</th>\n",
       "      <td>2023-04-11</td>\n",
       "      <td>IL</td>\n",
       "      <td>Israel</td>\n",
       "      <td>EURO</td>\n",
       "      <td>333</td>\n",
       "      <td>4817255</td>\n",
       "      <td>0</td>\n",
       "      <td>12416</td>\n",
       "    </tr>\n",
       "    <tr>\n",
       "      <th>123187</th>\n",
       "      <td>2023-04-12</td>\n",
       "      <td>IL</td>\n",
       "      <td>Israel</td>\n",
       "      <td>EURO</td>\n",
       "      <td>0</td>\n",
       "      <td>4817255</td>\n",
       "      <td>0</td>\n",
       "      <td>12416</td>\n",
       "    </tr>\n",
       "  </tbody>\n",
       "</table>\n",
       "<p>1196 rows × 8 columns</p>\n",
       "</div>"
      ],
      "text/plain": [
       "       Date_reported Country_code Country WHO_region  New_cases   \n",
       "121992    2020-01-03           IL  Israel       EURO          0  \\\n",
       "121993    2020-01-04           IL  Israel       EURO          0   \n",
       "121994    2020-01-05           IL  Israel       EURO          0   \n",
       "121995    2020-01-06           IL  Israel       EURO          0   \n",
       "121996    2020-01-07           IL  Israel       EURO          0   \n",
       "...              ...          ...     ...        ...        ...   \n",
       "123183    2023-04-08           IL  Israel       EURO        239   \n",
       "123184    2023-04-09           IL  Israel       EURO        185   \n",
       "123185    2023-04-10           IL  Israel       EURO        299   \n",
       "123186    2023-04-11           IL  Israel       EURO        333   \n",
       "123187    2023-04-12           IL  Israel       EURO          0   \n",
       "\n",
       "        Cumulative_cases  New_deaths  Cumulative_deaths  \n",
       "121992                 0           0                  0  \n",
       "121993                 0           0                  0  \n",
       "121994                 0           0                  0  \n",
       "121995                 0           0                  0  \n",
       "121996                 0           0                  0  \n",
       "...                  ...         ...                ...  \n",
       "123183           4816438           0              12416  \n",
       "123184           4816623           0              12416  \n",
       "123185           4816922           0              12416  \n",
       "123186           4817255           0              12416  \n",
       "123187           4817255           0              12416  \n",
       "\n",
       "[1196 rows x 8 columns]"
      ]
     },
     "execution_count": 15,
     "metadata": {},
     "output_type": "execute_result"
    }
   ],
   "source": [
    "df[df['Country_code']=='IL']"
   ]
  },
  {
   "cell_type": "code",
   "execution_count": 16,
   "metadata": {},
   "outputs": [
    {
     "name": "stderr",
     "output_type": "stream",
     "text": [
      "/var/folders/mn/7pmlfsp175s9b73sjyf7qyvc0000gn/T/ipykernel_4715/1213240803.py:1: UserWarning: Boolean Series key will be reindexed to match DataFrame index.\n",
      "  df[df['Date_reported']=='2020-03-11'][df['Country_code']=='IL'] #Original pandemic declaration\n"
     ]
    },
    {
     "data": {
      "text/html": [
       "<div>\n",
       "<style scoped>\n",
       "    .dataframe tbody tr th:only-of-type {\n",
       "        vertical-align: middle;\n",
       "    }\n",
       "\n",
       "    .dataframe tbody tr th {\n",
       "        vertical-align: top;\n",
       "    }\n",
       "\n",
       "    .dataframe thead th {\n",
       "        text-align: right;\n",
       "    }\n",
       "</style>\n",
       "<table border=\"1\" class=\"dataframe\">\n",
       "  <thead>\n",
       "    <tr style=\"text-align: right;\">\n",
       "      <th></th>\n",
       "      <th>Date_reported</th>\n",
       "      <th>Country_code</th>\n",
       "      <th>Country</th>\n",
       "      <th>WHO_region</th>\n",
       "      <th>New_cases</th>\n",
       "      <th>Cumulative_cases</th>\n",
       "      <th>New_deaths</th>\n",
       "      <th>Cumulative_deaths</th>\n",
       "    </tr>\n",
       "  </thead>\n",
       "  <tbody>\n",
       "    <tr>\n",
       "      <th>122060</th>\n",
       "      <td>2020-03-11</td>\n",
       "      <td>IL</td>\n",
       "      <td>Israel</td>\n",
       "      <td>EURO</td>\n",
       "      <td>33</td>\n",
       "      <td>87</td>\n",
       "      <td>0</td>\n",
       "      <td>0</td>\n",
       "    </tr>\n",
       "  </tbody>\n",
       "</table>\n",
       "</div>"
      ],
      "text/plain": [
       "       Date_reported Country_code Country WHO_region  New_cases   \n",
       "122060    2020-03-11           IL  Israel       EURO         33  \\\n",
       "\n",
       "        Cumulative_cases  New_deaths  Cumulative_deaths  \n",
       "122060                87           0                  0  "
      ]
     },
     "execution_count": 16,
     "metadata": {},
     "output_type": "execute_result"
    }
   ],
   "source": [
    "df[df['Date_reported']=='2020-03-11'][df['Country_code']=='IL'] #Original pandemic declaration"
   ]
  },
  {
   "cell_type": "code",
   "execution_count": 17,
   "metadata": {},
   "outputs": [
    {
     "name": "stderr",
     "output_type": "stream",
     "text": [
      "/var/folders/mn/7pmlfsp175s9b73sjyf7qyvc0000gn/T/ipykernel_4715/101016581.py:1: UserWarning: Boolean Series key will be reindexed to match DataFrame index.\n",
      "  df[df['Date_reported']=='2020-12-18'][df['Country_code']=='IL'] #Alpha\n"
     ]
    },
    {
     "data": {
      "text/html": [
       "<div>\n",
       "<style scoped>\n",
       "    .dataframe tbody tr th:only-of-type {\n",
       "        vertical-align: middle;\n",
       "    }\n",
       "\n",
       "    .dataframe tbody tr th {\n",
       "        vertical-align: top;\n",
       "    }\n",
       "\n",
       "    .dataframe thead th {\n",
       "        text-align: right;\n",
       "    }\n",
       "</style>\n",
       "<table border=\"1\" class=\"dataframe\">\n",
       "  <thead>\n",
       "    <tr style=\"text-align: right;\">\n",
       "      <th></th>\n",
       "      <th>Date_reported</th>\n",
       "      <th>Country_code</th>\n",
       "      <th>Country</th>\n",
       "      <th>WHO_region</th>\n",
       "      <th>New_cases</th>\n",
       "      <th>Cumulative_cases</th>\n",
       "      <th>New_deaths</th>\n",
       "      <th>Cumulative_deaths</th>\n",
       "    </tr>\n",
       "  </thead>\n",
       "  <tbody>\n",
       "    <tr>\n",
       "      <th>122342</th>\n",
       "      <td>2020-12-18</td>\n",
       "      <td>IL</td>\n",
       "      <td>Israel</td>\n",
       "      <td>EURO</td>\n",
       "      <td>2847</td>\n",
       "      <td>368343</td>\n",
       "      <td>17</td>\n",
       "      <td>3075</td>\n",
       "    </tr>\n",
       "  </tbody>\n",
       "</table>\n",
       "</div>"
      ],
      "text/plain": [
       "       Date_reported Country_code Country WHO_region  New_cases   \n",
       "122342    2020-12-18           IL  Israel       EURO       2847  \\\n",
       "\n",
       "        Cumulative_cases  New_deaths  Cumulative_deaths  \n",
       "122342            368343          17               3075  "
      ]
     },
     "execution_count": 17,
     "metadata": {},
     "output_type": "execute_result"
    }
   ],
   "source": [
    "df[df['Date_reported']=='2020-12-18'][df['Country_code']=='IL'] #Alpha"
   ]
  },
  {
   "cell_type": "code",
   "execution_count": 18,
   "metadata": {},
   "outputs": [
    {
     "name": "stderr",
     "output_type": "stream",
     "text": [
      "/var/folders/mn/7pmlfsp175s9b73sjyf7qyvc0000gn/T/ipykernel_4715/2063735929.py:1: UserWarning: Boolean Series key will be reindexed to match DataFrame index.\n",
      "  df[df['Date_reported']=='2021-01-11'][df['Country_code']=='IL'] #Gamma\n"
     ]
    },
    {
     "data": {
      "text/html": [
       "<div>\n",
       "<style scoped>\n",
       "    .dataframe tbody tr th:only-of-type {\n",
       "        vertical-align: middle;\n",
       "    }\n",
       "\n",
       "    .dataframe tbody tr th {\n",
       "        vertical-align: top;\n",
       "    }\n",
       "\n",
       "    .dataframe thead th {\n",
       "        text-align: right;\n",
       "    }\n",
       "</style>\n",
       "<table border=\"1\" class=\"dataframe\">\n",
       "  <thead>\n",
       "    <tr style=\"text-align: right;\">\n",
       "      <th></th>\n",
       "      <th>Date_reported</th>\n",
       "      <th>Country_code</th>\n",
       "      <th>Country</th>\n",
       "      <th>WHO_region</th>\n",
       "      <th>New_cases</th>\n",
       "      <th>Cumulative_cases</th>\n",
       "      <th>New_deaths</th>\n",
       "      <th>Cumulative_deaths</th>\n",
       "    </tr>\n",
       "  </thead>\n",
       "  <tbody>\n",
       "    <tr>\n",
       "      <th>122366</th>\n",
       "      <td>2021-01-11</td>\n",
       "      <td>IL</td>\n",
       "      <td>Israel</td>\n",
       "      <td>EURO</td>\n",
       "      <td>6954</td>\n",
       "      <td>493450</td>\n",
       "      <td>43</td>\n",
       "      <td>3720</td>\n",
       "    </tr>\n",
       "  </tbody>\n",
       "</table>\n",
       "</div>"
      ],
      "text/plain": [
       "       Date_reported Country_code Country WHO_region  New_cases   \n",
       "122366    2021-01-11           IL  Israel       EURO       6954  \\\n",
       "\n",
       "        Cumulative_cases  New_deaths  Cumulative_deaths  \n",
       "122366            493450          43               3720  "
      ]
     },
     "execution_count": 18,
     "metadata": {},
     "output_type": "execute_result"
    }
   ],
   "source": [
    "df[df['Date_reported']=='2021-01-11'][df['Country_code']=='IL'] #Gamma"
   ]
  },
  {
   "cell_type": "code",
   "execution_count": 19,
   "metadata": {},
   "outputs": [
    {
     "name": "stderr",
     "output_type": "stream",
     "text": [
      "/var/folders/mn/7pmlfsp175s9b73sjyf7qyvc0000gn/T/ipykernel_4715/4148218192.py:1: UserWarning: Boolean Series key will be reindexed to match DataFrame index.\n",
      "  df[df['Date_reported']=='2021-04-04'][df['Country_code']=='IL'] #Delta\n"
     ]
    },
    {
     "data": {
      "text/html": [
       "<div>\n",
       "<style scoped>\n",
       "    .dataframe tbody tr th:only-of-type {\n",
       "        vertical-align: middle;\n",
       "    }\n",
       "\n",
       "    .dataframe tbody tr th {\n",
       "        vertical-align: top;\n",
       "    }\n",
       "\n",
       "    .dataframe thead th {\n",
       "        text-align: right;\n",
       "    }\n",
       "</style>\n",
       "<table border=\"1\" class=\"dataframe\">\n",
       "  <thead>\n",
       "    <tr style=\"text-align: right;\">\n",
       "      <th></th>\n",
       "      <th>Date_reported</th>\n",
       "      <th>Country_code</th>\n",
       "      <th>Country</th>\n",
       "      <th>WHO_region</th>\n",
       "      <th>New_cases</th>\n",
       "      <th>Cumulative_cases</th>\n",
       "      <th>New_deaths</th>\n",
       "      <th>Cumulative_deaths</th>\n",
       "    </tr>\n",
       "  </thead>\n",
       "  <tbody>\n",
       "    <tr>\n",
       "      <th>122449</th>\n",
       "      <td>2021-04-04</td>\n",
       "      <td>IL</td>\n",
       "      <td>Israel</td>\n",
       "      <td>EURO</td>\n",
       "      <td>123</td>\n",
       "      <td>834534</td>\n",
       "      <td>7</td>\n",
       "      <td>6249</td>\n",
       "    </tr>\n",
       "  </tbody>\n",
       "</table>\n",
       "</div>"
      ],
      "text/plain": [
       "       Date_reported Country_code Country WHO_region  New_cases   \n",
       "122449    2021-04-04           IL  Israel       EURO        123  \\\n",
       "\n",
       "        Cumulative_cases  New_deaths  Cumulative_deaths  \n",
       "122449            834534           7               6249  "
      ]
     },
     "execution_count": 19,
     "metadata": {},
     "output_type": "execute_result"
    }
   ],
   "source": [
    "df[df['Date_reported']=='2021-04-04'][df['Country_code']=='IL'] #Delta"
   ]
  },
  {
   "cell_type": "code",
   "execution_count": 20,
   "metadata": {},
   "outputs": [
    {
     "name": "stderr",
     "output_type": "stream",
     "text": [
      "/var/folders/mn/7pmlfsp175s9b73sjyf7qyvc0000gn/T/ipykernel_4715/3467816259.py:1: UserWarning: Boolean Series key will be reindexed to match DataFrame index.\n",
      "  df[df['Date_reported']=='2021-11-26'][df['Country_code']=='IL'] #Omicron\n"
     ]
    },
    {
     "data": {
      "text/html": [
       "<div>\n",
       "<style scoped>\n",
       "    .dataframe tbody tr th:only-of-type {\n",
       "        vertical-align: middle;\n",
       "    }\n",
       "\n",
       "    .dataframe tbody tr th {\n",
       "        vertical-align: top;\n",
       "    }\n",
       "\n",
       "    .dataframe thead th {\n",
       "        text-align: right;\n",
       "    }\n",
       "</style>\n",
       "<table border=\"1\" class=\"dataframe\">\n",
       "  <thead>\n",
       "    <tr style=\"text-align: right;\">\n",
       "      <th></th>\n",
       "      <th>Date_reported</th>\n",
       "      <th>Country_code</th>\n",
       "      <th>Country</th>\n",
       "      <th>WHO_region</th>\n",
       "      <th>New_cases</th>\n",
       "      <th>Cumulative_cases</th>\n",
       "      <th>New_deaths</th>\n",
       "      <th>Cumulative_deaths</th>\n",
       "    </tr>\n",
       "  </thead>\n",
       "  <tbody>\n",
       "    <tr>\n",
       "      <th>122685</th>\n",
       "      <td>2021-11-26</td>\n",
       "      <td>IL</td>\n",
       "      <td>Israel</td>\n",
       "      <td>EURO</td>\n",
       "      <td>538</td>\n",
       "      <td>1342162</td>\n",
       "      <td>3</td>\n",
       "      <td>8198</td>\n",
       "    </tr>\n",
       "  </tbody>\n",
       "</table>\n",
       "</div>"
      ],
      "text/plain": [
       "       Date_reported Country_code Country WHO_region  New_cases   \n",
       "122685    2021-11-26           IL  Israel       EURO        538  \\\n",
       "\n",
       "        Cumulative_cases  New_deaths  Cumulative_deaths  \n",
       "122685           1342162           3               8198  "
      ]
     },
     "execution_count": 20,
     "metadata": {},
     "output_type": "execute_result"
    }
   ],
   "source": [
    "df[df['Date_reported']=='2021-11-26'][df['Country_code']=='IL'] #Omicron"
   ]
  },
  {
   "cell_type": "code",
   "execution_count": 21,
   "metadata": {},
   "outputs": [
    {
     "data": {
      "text/plain": [
       "122041    0.000000\n",
       "122042    0.000000\n",
       "122043    0.000000\n",
       "122044    0.000000\n",
       "122045    0.000000\n",
       "            ...   \n",
       "123183    0.002578\n",
       "123184    0.002578\n",
       "123185    0.002578\n",
       "123186    0.002577\n",
       "123187    0.002577\n",
       "Length: 1147, dtype: float64"
      ]
     },
     "execution_count": 21,
     "metadata": {},
     "output_type": "execute_result"
    }
   ],
   "source": [
    "(df[df['Country_code']=='IL']['Cumulative_deaths'] / df[df['Country_code']=='IL']['Cumulative_cases']).dropna()"
   ]
  },
  {
   "cell_type": "code",
   "execution_count": 22,
   "metadata": {},
   "outputs": [
    {
     "data": {
      "image/png": "[encoded data removed]",
      "text/plain": [
       "<Figure size 640x480 with 1 Axes>"
      ]
     },
     "metadata": {},
     "output_type": "display_data"
    }
   ],
   "source": [
    "plt.plot((df[df['Country_code']=='IL']['New_cases']).dropna())\n",
    "plt.title('New cases of SARS-CoV-2 in ISRAEL')\n",
    "#Pandemic Declaration\n",
    "plt.axvline(x=122060, color='k', linestyle='--')\n",
    "#Alpha\n",
    "plt.axvline(x=122342, color='k', linestyle='--')\n",
    "#Gamma\n",
    "plt.axvline(x=122366, color='k', linestyle='--')\n",
    "#Delta\n",
    "plt.axvline(x=122449, color='k', linestyle='--')\n",
    "#Omicron\n",
    "plt.axvline(x=122685, color='k', linestyle='--')\n",
    "plt.savefig('./Figures/IL_nc.png', dpi=500)\n",
    "plt.show()\n"
   ]
  },
  {
   "cell_type": "code",
   "execution_count": 23,
   "metadata": {},
   "outputs": [
    {
     "data": {
      "image/png": "[encoded data removed]",
      "text/plain": [
       "<Figure size 640x480 with 1 Axes>"
      ]
     },
     "metadata": {},
     "output_type": "display_data"
    }
   ],
   "source": [
    "plt.plot(df[df['Country_code']=='IL']['New_deaths'])\n",
    "plt.title('New deaths of SARS-CoV-2 in ISRAEL')\n",
    "#Pandemic Declaration\n",
    "plt.axvline(x=122060, color='k', linestyle='--')\n",
    "#Alpha\n",
    "plt.axvline(x=122342, color='k', linestyle='--')\n",
    "#Gamma\n",
    "plt.axvline(x=122366, color='k', linestyle='--')\n",
    "#Delta\n",
    "plt.axvline(x=122449, color='k', linestyle='--')\n",
    "#Omicron\n",
    "plt.axvline(x=122685, color='k', linestyle='--')\n",
    "plt.savefig('./Figures/IL_nd.png', dpi=500)\n",
    "plt.show()"
   ]
  },
  {
   "cell_type": "code",
   "execution_count": 24,
   "metadata": {},
   "outputs": [
    {
     "data": {
      "image/png": "[encoded data removed]",
      "text/plain": [
       "<Figure size 640x480 with 1 Axes>"
      ]
     },
     "metadata": {},
     "output_type": "display_data"
    }
   ],
   "source": [
    "plt.plot((df[df['Country_code']=='IL']['New_deaths'] / df[df['Country_code']=='IL']['New_cases']).dropna())\n",
    "plt.title('Fatality rate of SARS-CoV-2 in ISRAEL')\n",
    "#Pandemic Declaration\n",
    "plt.axvline(x=122060, color='k', linestyle='--')\n",
    "#Alpha\n",
    "plt.axvline(x=122342, color='k', linestyle='--')\n",
    "#Gamma\n",
    "plt.axvline(x=122366, color='k', linestyle='--')\n",
    "#Delta\n",
    "plt.axvline(x=122449, color='k', linestyle='--')\n",
    "#Omicron\n",
    "plt.axvline(x=122685, color='k', linestyle='--')\n",
    "plt.savefig('./Figures/IL_dr.png', dpi=500)\n",
    "plt.show()"
   ]
  }
 ],
 "metadata": {
  "kernelspec": {
   "display_name": "Python 3",
   "language": "python",
   "name": "python3"
  },
  "language_info": {
   "codemirror_mode": {
    "name": "ipython",
    "version": 3
   },
   "file_extension": ".py",
   "mimetype": "text/x-python",
   "name": "python",
   "nbconvert_exporter": "python",
   "pygments_lexer": "ipython3",
   "version": "3.11.2"
  },
  "orig_nbformat": 4
 },
 "nbformat": 4,
 "nbformat_minor": 2
}
