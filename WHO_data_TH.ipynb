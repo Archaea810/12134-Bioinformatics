{
 "cells": [
  {
   "cell_type": "code",
   "execution_count": 50,
   "metadata": {},
   "outputs": [],
   "source": [
    "import pandas as pd\n",
    "import matplotlib.pyplot as plt\n",
    "import numpy as np"
   ]
  },
  {
   "cell_type": "code",
   "execution_count": 51,
   "metadata": {},
   "outputs": [],
   "source": [
    "df = pd.read_csv('WHO-COVID-19-global-data.csv')\n",
    "df.loc[df['New_deaths'] < 0, 'New_deaths'] = 0\n",
    "df.loc[df['New_cases'] < 0, 'New_cases'] = 0"
   ]
  },
  {
   "cell_type": "code",
   "execution_count": 52,
   "metadata": {},
   "outputs": [
    {
     "data": {
      "text/html": [
       "<div>\n",
       "<style scoped>\n",
       "    .dataframe tbody tr th:only-of-type {\n",
       "        vertical-align: middle;\n",
       "    }\n",
       "\n",
       "    .dataframe tbody tr th {\n",
       "        vertical-align: top;\n",
       "    }\n",
       "\n",
       "    .dataframe thead th {\n",
       "        text-align: right;\n",
       "    }\n",
       "</style>\n",
       "<table border=\"1\" class=\"dataframe\">\n",
       "  <thead>\n",
       "    <tr style=\"text-align: right;\">\n",
       "      <th></th>\n",
       "      <th>Date_reported</th>\n",
       "      <th>Country_code</th>\n",
       "      <th>Country</th>\n",
       "      <th>WHO_region</th>\n",
       "      <th>New_cases</th>\n",
       "      <th>Cumulative_cases</th>\n",
       "      <th>New_deaths</th>\n",
       "      <th>Cumulative_deaths</th>\n",
       "    </tr>\n",
       "  </thead>\n",
       "  <tbody>\n",
       "    <tr>\n",
       "      <th>251160</th>\n",
       "      <td>2020-01-03</td>\n",
       "      <td>TH</td>\n",
       "      <td>Thailand</td>\n",
       "      <td>SEARO</td>\n",
       "      <td>0</td>\n",
       "      <td>0</td>\n",
       "      <td>0</td>\n",
       "      <td>0</td>\n",
       "    </tr>\n",
       "    <tr>\n",
       "      <th>251161</th>\n",
       "      <td>2020-01-04</td>\n",
       "      <td>TH</td>\n",
       "      <td>Thailand</td>\n",
       "      <td>SEARO</td>\n",
       "      <td>0</td>\n",
       "      <td>0</td>\n",
       "      <td>0</td>\n",
       "      <td>0</td>\n",
       "    </tr>\n",
       "    <tr>\n",
       "      <th>251162</th>\n",
       "      <td>2020-01-05</td>\n",
       "      <td>TH</td>\n",
       "      <td>Thailand</td>\n",
       "      <td>SEARO</td>\n",
       "      <td>0</td>\n",
       "      <td>0</td>\n",
       "      <td>0</td>\n",
       "      <td>0</td>\n",
       "    </tr>\n",
       "    <tr>\n",
       "      <th>251163</th>\n",
       "      <td>2020-01-06</td>\n",
       "      <td>TH</td>\n",
       "      <td>Thailand</td>\n",
       "      <td>SEARO</td>\n",
       "      <td>0</td>\n",
       "      <td>0</td>\n",
       "      <td>0</td>\n",
       "      <td>0</td>\n",
       "    </tr>\n",
       "    <tr>\n",
       "      <th>251164</th>\n",
       "      <td>2020-01-07</td>\n",
       "      <td>TH</td>\n",
       "      <td>Thailand</td>\n",
       "      <td>SEARO</td>\n",
       "      <td>0</td>\n",
       "      <td>0</td>\n",
       "      <td>0</td>\n",
       "      <td>0</td>\n",
       "    </tr>\n",
       "    <tr>\n",
       "      <th>...</th>\n",
       "      <td>...</td>\n",
       "      <td>...</td>\n",
       "      <td>...</td>\n",
       "      <td>...</td>\n",
       "      <td>...</td>\n",
       "      <td>...</td>\n",
       "      <td>...</td>\n",
       "      <td>...</td>\n",
       "    </tr>\n",
       "    <tr>\n",
       "      <th>252351</th>\n",
       "      <td>2023-04-08</td>\n",
       "      <td>TH</td>\n",
       "      <td>Thailand</td>\n",
       "      <td>SEARO</td>\n",
       "      <td>168</td>\n",
       "      <td>4728967</td>\n",
       "      <td>2</td>\n",
       "      <td>33940</td>\n",
       "    </tr>\n",
       "    <tr>\n",
       "      <th>252352</th>\n",
       "      <td>2023-04-09</td>\n",
       "      <td>TH</td>\n",
       "      <td>Thailand</td>\n",
       "      <td>SEARO</td>\n",
       "      <td>0</td>\n",
       "      <td>4728967</td>\n",
       "      <td>0</td>\n",
       "      <td>33940</td>\n",
       "    </tr>\n",
       "    <tr>\n",
       "      <th>252353</th>\n",
       "      <td>2023-04-10</td>\n",
       "      <td>TH</td>\n",
       "      <td>Thailand</td>\n",
       "      <td>SEARO</td>\n",
       "      <td>0</td>\n",
       "      <td>4728967</td>\n",
       "      <td>0</td>\n",
       "      <td>33940</td>\n",
       "    </tr>\n",
       "    <tr>\n",
       "      <th>252354</th>\n",
       "      <td>2023-04-11</td>\n",
       "      <td>TH</td>\n",
       "      <td>Thailand</td>\n",
       "      <td>SEARO</td>\n",
       "      <td>0</td>\n",
       "      <td>4728967</td>\n",
       "      <td>0</td>\n",
       "      <td>33940</td>\n",
       "    </tr>\n",
       "    <tr>\n",
       "      <th>252355</th>\n",
       "      <td>2023-04-12</td>\n",
       "      <td>TH</td>\n",
       "      <td>Thailand</td>\n",
       "      <td>SEARO</td>\n",
       "      <td>0</td>\n",
       "      <td>4728967</td>\n",
       "      <td>0</td>\n",
       "      <td>33940</td>\n",
       "    </tr>\n",
       "  </tbody>\n",
       "</table>\n",
       "<p>1196 rows × 8 columns</p>\n",
       "</div>"
      ],
      "text/plain": [
       "       Date_reported Country_code   Country WHO_region  New_cases   \n",
       "251160    2020-01-03           TH  Thailand      SEARO          0  \\\n",
       "251161    2020-01-04           TH  Thailand      SEARO          0   \n",
       "251162    2020-01-05           TH  Thailand      SEARO          0   \n",
       "251163    2020-01-06           TH  Thailand      SEARO          0   \n",
       "251164    2020-01-07           TH  Thailand      SEARO          0   \n",
       "...              ...          ...       ...        ...        ...   \n",
       "252351    2023-04-08           TH  Thailand      SEARO        168   \n",
       "252352    2023-04-09           TH  Thailand      SEARO          0   \n",
       "252353    2023-04-10           TH  Thailand      SEARO          0   \n",
       "252354    2023-04-11           TH  Thailand      SEARO          0   \n",
       "252355    2023-04-12           TH  Thailand      SEARO          0   \n",
       "\n",
       "        Cumulative_cases  New_deaths  Cumulative_deaths  \n",
       "251160                 0           0                  0  \n",
       "251161                 0           0                  0  \n",
       "251162                 0           0                  0  \n",
       "251163                 0           0                  0  \n",
       "251164                 0           0                  0  \n",
       "...                  ...         ...                ...  \n",
       "252351           4728967           2              33940  \n",
       "252352           4728967           0              33940  \n",
       "252353           4728967           0              33940  \n",
       "252354           4728967           0              33940  \n",
       "252355           4728967           0              33940  \n",
       "\n",
       "[1196 rows x 8 columns]"
      ]
     },
     "execution_count": 52,
     "metadata": {},
     "output_type": "execute_result"
    }
   ],
   "source": [
    "df[df['Country_code']=='TH']"
   ]
  },
  {
   "cell_type": "code",
   "execution_count": 53,
   "metadata": {},
   "outputs": [
    {
     "name": "stderr",
     "output_type": "stream",
     "text": [
      "/var/folders/mn/7pmlfsp175s9b73sjyf7qyvc0000gn/T/ipykernel_5199/4201364143.py:1: UserWarning: Boolean Series key will be reindexed to match DataFrame index.\n",
      "  df[df['Date_reported']=='2020-03-11'][df['Country_code']=='TH'] #Original pandemic declaration\n"
     ]
    },
    {
     "data": {
      "text/html": [
       "<div>\n",
       "<style scoped>\n",
       "    .dataframe tbody tr th:only-of-type {\n",
       "        vertical-align: middle;\n",
       "    }\n",
       "\n",
       "    .dataframe tbody tr th {\n",
       "        vertical-align: top;\n",
       "    }\n",
       "\n",
       "    .dataframe thead th {\n",
       "        text-align: right;\n",
       "    }\n",
       "</style>\n",
       "<table border=\"1\" class=\"dataframe\">\n",
       "  <thead>\n",
       "    <tr style=\"text-align: right;\">\n",
       "      <th></th>\n",
       "      <th>Date_reported</th>\n",
       "      <th>Country_code</th>\n",
       "      <th>Country</th>\n",
       "      <th>WHO_region</th>\n",
       "      <th>New_cases</th>\n",
       "      <th>Cumulative_cases</th>\n",
       "      <th>New_deaths</th>\n",
       "      <th>Cumulative_deaths</th>\n",
       "    </tr>\n",
       "  </thead>\n",
       "  <tbody>\n",
       "    <tr>\n",
       "      <th>251228</th>\n",
       "      <td>2020-03-11</td>\n",
       "      <td>TH</td>\n",
       "      <td>Thailand</td>\n",
       "      <td>SEARO</td>\n",
       "      <td>6</td>\n",
       "      <td>59</td>\n",
       "      <td>0</td>\n",
       "      <td>1</td>\n",
       "    </tr>\n",
       "  </tbody>\n",
       "</table>\n",
       "</div>"
      ],
      "text/plain": [
       "       Date_reported Country_code   Country WHO_region  New_cases   \n",
       "251228    2020-03-11           TH  Thailand      SEARO          6  \\\n",
       "\n",
       "        Cumulative_cases  New_deaths  Cumulative_deaths  \n",
       "251228                59           0                  1  "
      ]
     },
     "execution_count": 53,
     "metadata": {},
     "output_type": "execute_result"
    }
   ],
   "source": [
    "df[df['Date_reported']=='2020-03-11'][df['Country_code']=='TH'] #Original pandemic declaration"
   ]
  },
  {
   "cell_type": "code",
   "execution_count": 54,
   "metadata": {},
   "outputs": [
    {
     "name": "stderr",
     "output_type": "stream",
     "text": [
      "/var/folders/mn/7pmlfsp175s9b73sjyf7qyvc0000gn/T/ipykernel_5199/3355650257.py:1: UserWarning: Boolean Series key will be reindexed to match DataFrame index.\n",
      "  df[df['Date_reported']=='2020-12-18'][df['Country_code']=='TH'] #Alpha\n"
     ]
    },
    {
     "data": {
      "text/html": [
       "<div>\n",
       "<style scoped>\n",
       "    .dataframe tbody tr th:only-of-type {\n",
       "        vertical-align: middle;\n",
       "    }\n",
       "\n",
       "    .dataframe tbody tr th {\n",
       "        vertical-align: top;\n",
       "    }\n",
       "\n",
       "    .dataframe thead th {\n",
       "        text-align: right;\n",
       "    }\n",
       "</style>\n",
       "<table border=\"1\" class=\"dataframe\">\n",
       "  <thead>\n",
       "    <tr style=\"text-align: right;\">\n",
       "      <th></th>\n",
       "      <th>Date_reported</th>\n",
       "      <th>Country_code</th>\n",
       "      <th>Country</th>\n",
       "      <th>WHO_region</th>\n",
       "      <th>New_cases</th>\n",
       "      <th>Cumulative_cases</th>\n",
       "      <th>New_deaths</th>\n",
       "      <th>Cumulative_deaths</th>\n",
       "    </tr>\n",
       "  </thead>\n",
       "  <tbody>\n",
       "    <tr>\n",
       "      <th>251510</th>\n",
       "      <td>2020-12-18</td>\n",
       "      <td>TH</td>\n",
       "      <td>Thailand</td>\n",
       "      <td>SEARO</td>\n",
       "      <td>16</td>\n",
       "      <td>4297</td>\n",
       "      <td>0</td>\n",
       "      <td>60</td>\n",
       "    </tr>\n",
       "  </tbody>\n",
       "</table>\n",
       "</div>"
      ],
      "text/plain": [
       "       Date_reported Country_code   Country WHO_region  New_cases   \n",
       "251510    2020-12-18           TH  Thailand      SEARO         16  \\\n",
       "\n",
       "        Cumulative_cases  New_deaths  Cumulative_deaths  \n",
       "251510              4297           0                 60  "
      ]
     },
     "execution_count": 54,
     "metadata": {},
     "output_type": "execute_result"
    }
   ],
   "source": [
    "df[df['Date_reported']=='2020-12-18'][df['Country_code']=='TH'] #Alpha"
   ]
  },
  {
   "cell_type": "code",
   "execution_count": 55,
   "metadata": {},
   "outputs": [
    {
     "name": "stderr",
     "output_type": "stream",
     "text": [
      "/var/folders/mn/7pmlfsp175s9b73sjyf7qyvc0000gn/T/ipykernel_5199/392976862.py:1: UserWarning: Boolean Series key will be reindexed to match DataFrame index.\n",
      "  df[df['Date_reported']=='2021-01-11'][df['Country_code']=='TH'] #Gamma\n"
     ]
    },
    {
     "data": {
      "text/html": [
       "<div>\n",
       "<style scoped>\n",
       "    .dataframe tbody tr th:only-of-type {\n",
       "        vertical-align: middle;\n",
       "    }\n",
       "\n",
       "    .dataframe tbody tr th {\n",
       "        vertical-align: top;\n",
       "    }\n",
       "\n",
       "    .dataframe thead th {\n",
       "        text-align: right;\n",
       "    }\n",
       "</style>\n",
       "<table border=\"1\" class=\"dataframe\">\n",
       "  <thead>\n",
       "    <tr style=\"text-align: right;\">\n",
       "      <th></th>\n",
       "      <th>Date_reported</th>\n",
       "      <th>Country_code</th>\n",
       "      <th>Country</th>\n",
       "      <th>WHO_region</th>\n",
       "      <th>New_cases</th>\n",
       "      <th>Cumulative_cases</th>\n",
       "      <th>New_deaths</th>\n",
       "      <th>Cumulative_deaths</th>\n",
       "    </tr>\n",
       "  </thead>\n",
       "  <tbody>\n",
       "    <tr>\n",
       "      <th>251534</th>\n",
       "      <td>2021-01-11</td>\n",
       "      <td>TH</td>\n",
       "      <td>Thailand</td>\n",
       "      <td>SEARO</td>\n",
       "      <td>249</td>\n",
       "      <td>10547</td>\n",
       "      <td>0</td>\n",
       "      <td>67</td>\n",
       "    </tr>\n",
       "  </tbody>\n",
       "</table>\n",
       "</div>"
      ],
      "text/plain": [
       "       Date_reported Country_code   Country WHO_region  New_cases   \n",
       "251534    2021-01-11           TH  Thailand      SEARO        249  \\\n",
       "\n",
       "        Cumulative_cases  New_deaths  Cumulative_deaths  \n",
       "251534             10547           0                 67  "
      ]
     },
     "execution_count": 55,
     "metadata": {},
     "output_type": "execute_result"
    }
   ],
   "source": [
    "df[df['Date_reported']=='2021-01-11'][df['Country_code']=='TH'] #Gamma"
   ]
  },
  {
   "cell_type": "code",
   "execution_count": 56,
   "metadata": {},
   "outputs": [
    {
     "name": "stderr",
     "output_type": "stream",
     "text": [
      "/var/folders/mn/7pmlfsp175s9b73sjyf7qyvc0000gn/T/ipykernel_5199/2154853703.py:1: UserWarning: Boolean Series key will be reindexed to match DataFrame index.\n",
      "  df[df['Date_reported']=='2021-04-04'][df['Country_code']=='TH'] #Delta\n"
     ]
    },
    {
     "data": {
      "text/html": [
       "<div>\n",
       "<style scoped>\n",
       "    .dataframe tbody tr th:only-of-type {\n",
       "        vertical-align: middle;\n",
       "    }\n",
       "\n",
       "    .dataframe tbody tr th {\n",
       "        vertical-align: top;\n",
       "    }\n",
       "\n",
       "    .dataframe thead th {\n",
       "        text-align: right;\n",
       "    }\n",
       "</style>\n",
       "<table border=\"1\" class=\"dataframe\">\n",
       "  <thead>\n",
       "    <tr style=\"text-align: right;\">\n",
       "      <th></th>\n",
       "      <th>Date_reported</th>\n",
       "      <th>Country_code</th>\n",
       "      <th>Country</th>\n",
       "      <th>WHO_region</th>\n",
       "      <th>New_cases</th>\n",
       "      <th>Cumulative_cases</th>\n",
       "      <th>New_deaths</th>\n",
       "      <th>Cumulative_deaths</th>\n",
       "    </tr>\n",
       "  </thead>\n",
       "  <tbody>\n",
       "    <tr>\n",
       "      <th>251617</th>\n",
       "      <td>2021-04-04</td>\n",
       "      <td>TH</td>\n",
       "      <td>Thailand</td>\n",
       "      <td>SEARO</td>\n",
       "      <td>96</td>\n",
       "      <td>29127</td>\n",
       "      <td>0</td>\n",
       "      <td>95</td>\n",
       "    </tr>\n",
       "  </tbody>\n",
       "</table>\n",
       "</div>"
      ],
      "text/plain": [
       "       Date_reported Country_code   Country WHO_region  New_cases   \n",
       "251617    2021-04-04           TH  Thailand      SEARO         96  \\\n",
       "\n",
       "        Cumulative_cases  New_deaths  Cumulative_deaths  \n",
       "251617             29127           0                 95  "
      ]
     },
     "execution_count": 56,
     "metadata": {},
     "output_type": "execute_result"
    }
   ],
   "source": [
    "df[df['Date_reported']=='2021-04-04'][df['Country_code']=='TH'] #Delta"
   ]
  },
  {
   "cell_type": "code",
   "execution_count": 57,
   "metadata": {},
   "outputs": [
    {
     "name": "stderr",
     "output_type": "stream",
     "text": [
      "/var/folders/mn/7pmlfsp175s9b73sjyf7qyvc0000gn/T/ipykernel_5199/3570509792.py:1: UserWarning: Boolean Series key will be reindexed to match DataFrame index.\n",
      "  df[df['Date_reported']=='2021-11-26'][df['Country_code']=='TH'] #Omicron\n"
     ]
    },
    {
     "data": {
      "text/html": [
       "<div>\n",
       "<style scoped>\n",
       "    .dataframe tbody tr th:only-of-type {\n",
       "        vertical-align: middle;\n",
       "    }\n",
       "\n",
       "    .dataframe tbody tr th {\n",
       "        vertical-align: top;\n",
       "    }\n",
       "\n",
       "    .dataframe thead th {\n",
       "        text-align: right;\n",
       "    }\n",
       "</style>\n",
       "<table border=\"1\" class=\"dataframe\">\n",
       "  <thead>\n",
       "    <tr style=\"text-align: right;\">\n",
       "      <th></th>\n",
       "      <th>Date_reported</th>\n",
       "      <th>Country_code</th>\n",
       "      <th>Country</th>\n",
       "      <th>WHO_region</th>\n",
       "      <th>New_cases</th>\n",
       "      <th>Cumulative_cases</th>\n",
       "      <th>New_deaths</th>\n",
       "      <th>Cumulative_deaths</th>\n",
       "    </tr>\n",
       "  </thead>\n",
       "  <tbody>\n",
       "    <tr>\n",
       "      <th>251853</th>\n",
       "      <td>2021-11-26</td>\n",
       "      <td>TH</td>\n",
       "      <td>Thailand</td>\n",
       "      <td>SEARO</td>\n",
       "      <td>6559</td>\n",
       "      <td>2094886</td>\n",
       "      <td>64</td>\n",
       "      <td>20645</td>\n",
       "    </tr>\n",
       "  </tbody>\n",
       "</table>\n",
       "</div>"
      ],
      "text/plain": [
       "       Date_reported Country_code   Country WHO_region  New_cases   \n",
       "251853    2021-11-26           TH  Thailand      SEARO       6559  \\\n",
       "\n",
       "        Cumulative_cases  New_deaths  Cumulative_deaths  \n",
       "251853           2094886          64              20645  "
      ]
     },
     "execution_count": 57,
     "metadata": {},
     "output_type": "execute_result"
    }
   ],
   "source": [
    "df[df['Date_reported']=='2021-11-26'][df['Country_code']=='TH'] #Omicron"
   ]
  },
  {
   "cell_type": "code",
   "execution_count": 58,
   "metadata": {},
   "outputs": [
    {
     "data": {
      "text/plain": [
       "251170    0.000000\n",
       "251171    0.000000\n",
       "251172    0.000000\n",
       "251173    0.000000\n",
       "251174    0.000000\n",
       "            ...   \n",
       "252351    0.007177\n",
       "252352    0.007177\n",
       "252353    0.007177\n",
       "252354    0.007177\n",
       "252355    0.007177\n",
       "Length: 1186, dtype: float64"
      ]
     },
     "execution_count": 58,
     "metadata": {},
     "output_type": "execute_result"
    }
   ],
   "source": [
    "(df[df['Country_code']=='TH']['Cumulative_deaths'] / df[df['Country_code']=='TH']['Cumulative_cases']).dropna()"
   ]
  },
  {
   "cell_type": "code",
   "execution_count": 59,
   "metadata": {},
   "outputs": [
    {
     "data": {
      "image/png": "[encoded data removed]",
      "text/plain": [
       "<Figure size 640x480 with 1 Axes>"
      ]
     },
     "metadata": {},
     "output_type": "display_data"
    }
   ],
   "source": [
    "plt.plot((df[df['Country_code']=='TH']['New_cases']).dropna())\n",
    "plt.title('New cases of SARS-CoV-2 in THAILAND')\n",
    "#Pandemic Declaration\n",
    "plt.axvline(x=251228, color='k', linestyle='--')\n",
    "#Alpha\n",
    "plt.axvline(x=251510, color='k', linestyle='--')\n",
    "#Gamma\n",
    "plt.axvline(x=251534, color='k', linestyle='--')\n",
    "#Delta\n",
    "plt.axvline(x=251617, color='k', linestyle='--')\n",
    "#Omicron\n",
    "plt.axvline(x=251853, color='k', linestyle='--')\n",
    "plt.savefig('./Figures/TH_nc.png', dpi=500)\n",
    "plt.show()\n"
   ]
  },
  {
   "cell_type": "code",
   "execution_count": 60,
   "metadata": {},
   "outputs": [
    {
     "data": {
      "image/png": "[encoded data removed]",
      "text/plain": [
       "<Figure size 640x480 with 1 Axes>"
      ]
     },
     "metadata": {},
     "output_type": "display_data"
    }
   ],
   "source": [
    "plt.plot(df[df['Country_code']=='TH']['New_deaths'])\n",
    "plt.title('New deaths of SARS-CoV-2 in THAILAND')\n",
    "#Pandemic Declaration\n",
    "plt.axvline(x=251228, color='k', linestyle='--')\n",
    "#Alpha\n",
    "plt.axvline(x=251510, color='k', linestyle='--')\n",
    "#Gamma\n",
    "plt.axvline(x=251534, color='k', linestyle='--')\n",
    "#Delta\n",
    "plt.axvline(x=251617, color='k', linestyle='--')\n",
    "#Omicron\n",
    "plt.axvline(x=251853, color='k', linestyle='--')\n",
    "plt.savefig('./Figures/TH_nd.png', dpi=500)\n",
    "plt.show()"
   ]
  },
  {
   "cell_type": "code",
   "execution_count": 61,
   "metadata": {},
   "outputs": [
    {
     "data": {
      "image/png": "[encoded data removed]",
      "text/plain": [
       "<Figure size 640x480 with 1 Axes>"
      ]
     },
     "metadata": {},
     "output_type": "display_data"
    }
   ],
   "source": [
    "plt.plot((df[df['Country_code']=='TH']['New_deaths'] / df[df['Country_code']=='TH']['New_cases']).dropna())\n",
    "plt.title('Fatality rate of SARS-CoV-2 in THAILAND')\n",
    "#Pandemic Declaration\n",
    "plt.axvline(x=251228, color='k', linestyle='--')\n",
    "#Alpha\n",
    "plt.axvline(x=251510, color='k', linestyle='--')\n",
    "#Gamma\n",
    "plt.axvline(x=251534, color='k', linestyle='--')\n",
    "#Delta\n",
    "plt.axvline(x=251617, color='k', linestyle='--')\n",
    "#Omicron\n",
    "plt.axvline(x=251853, color='k', linestyle='--')\n",
    "plt.savefig('./Figures/TH_dr.png', dpi=500)\n",
    "plt.show()"
   ]
  }
 ],
 "metadata": {
  "kernelspec": {
   "display_name": "Python 3",
   "language": "python",
   "name": "python3"
  },
  "language_info": {
   "codemirror_mode": {
    "name": "ipython",
    "version": 3
   },
   "file_extension": ".py",
   "mimetype": "text/x-python",
   "name": "python",
   "nbconvert_exporter": "python",
   "pygments_lexer": "ipython3",
   "version": "3.11.2"
  },
  "orig_nbformat": 4
 },
 "nbformat": 4,
 "nbformat_minor": 2
}
